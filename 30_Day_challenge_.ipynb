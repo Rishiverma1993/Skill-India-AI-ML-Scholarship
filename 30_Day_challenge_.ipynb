{
  "nbformat": 4,
  "nbformat_minor": 0,
  "metadata": {
    "colab": {
      "name": "30 Day challenge .ipynb",
      "provenance": [],
      "include_colab_link": true
    },
    "kernelspec": {
      "name": "python3",
      "display_name": "Python 3"
    },
    "language_info": {
      "name": "python"
    }
  },
  "cells": [
    {
      "cell_type": "markdown",
      "metadata": {
        "id": "view-in-github",
        "colab_type": "text"
      },
      "source": [
        "<a href=\"https://colab.research.google.com/github/Rishiverma1993/Skill-India-AI-ML-Scholarship/blob/main/30_Day_challenge_.ipynb\" target=\"_parent\"><img src=\"https://colab.research.google.com/assets/colab-badge.svg\" alt=\"Open In Colab\"/></a>"
      ]
    },
    {
      "cell_type": "markdown",
      "metadata": {
        "id": "6eEFddgDBYwW"
      },
      "source": [
        "# **14-10-2021**"
      ]
    },
    {
      "cell_type": "code",
      "metadata": {
        "colab": {
          "base_uri": "https://localhost:8080/"
        },
        "id": "2-VXZNeO2oLC",
        "outputId": "689e3579-647d-48ac-b4f6-76049ef56326"
      },
      "source": [
        "# Aithmetic operators\n",
        "x = 5\n",
        "y = 6\n",
        "#print(x+y)\n",
        "#print(x-y)\n",
        "#print(x*y)\n",
        "#print(15/y)\n",
        "#print(15//y)\n",
        "print(21**3)"
      ],
      "execution_count": null,
      "outputs": [
        {
          "output_type": "stream",
          "name": "stdout",
          "text": [
            "9261\n"
          ]
        }
      ]
    },
    {
      "cell_type": "code",
      "metadata": {
        "colab": {
          "base_uri": "https://localhost:8080/"
        },
        "id": "61jKxJPhCjKo",
        "outputId": "1f8d9630-901b-4b2c-dd03-4dad1009a82e"
      },
      "source": [
        "# Camparison operator\n",
        "#x == y # equal\n",
        "#x != y # not equal\n",
        "#x < y \n",
        "#x > y \n",
        "#x >= y \n",
        "#x  <= y "
      ],
      "execution_count": null,
      "outputs": [
        {
          "output_type": "execute_result",
          "data": {
            "text/plain": [
              "False"
            ]
          },
          "metadata": {},
          "execution_count": 6
        }
      ]
    },
    {
      "cell_type": "code",
      "metadata": {
        "colab": {
          "base_uri": "https://localhost:8080/"
        },
        "id": "P69aVSW5DTZT",
        "outputId": "e68a3e60-fbac-4ed0-97eb-3ae99e9f6787"
      },
      "source": [
        "# Assignment operator \n",
        "a = 5\n",
        "a = a + 1\n",
        "#6\n",
        "a +=1 \n",
        "#print(a)\n",
        "a -= 1 \n",
        "print(a)\n",
        "a *= 5 \n",
        "#print(a)\n",
        "a //= 5 \n",
        "print(a)"
      ],
      "execution_count": null,
      "outputs": [
        {
          "output_type": "stream",
          "name": "stdout",
          "text": [
            "6\n",
            "6\n"
          ]
        }
      ]
    },
    {
      "cell_type": "code",
      "metadata": {
        "colab": {
          "base_uri": "https://localhost:8080/"
        },
        "id": "j7mQW2o1FAkR",
        "outputId": "1d377f61-da71-4246-c2d4-a8b44ac6c78c"
      },
      "source": [
        "# logical\n",
        "False and True\n",
        "False or True\n",
        "not True"
      ],
      "execution_count": null,
      "outputs": [
        {
          "output_type": "execute_result",
          "data": {
            "text/plain": [
              "False"
            ]
          },
          "metadata": {},
          "execution_count": 33
        }
      ]
    },
    {
      "cell_type": "code",
      "metadata": {
        "colab": {
          "base_uri": "https://localhost:8080/"
        },
        "id": "ZpLVpXZJHDEy",
        "outputId": "97ab8c03-40ca-4f48-e808-19d30232540a"
      },
      "source": [
        "# Identity operator\n",
        "#'person' is \"Person\"\n",
        "'Person' is not \"person\""
      ],
      "execution_count": null,
      "outputs": [
        {
          "output_type": "execute_result",
          "data": {
            "text/plain": [
              "True"
            ]
          },
          "metadata": {},
          "execution_count": 12
        }
      ]
    },
    {
      "cell_type": "code",
      "metadata": {
        "colab": {
          "base_uri": "https://localhost:8080/"
        },
        "id": "Ica7VPsTHrpo",
        "outputId": "46017169-c075-4016-87ea-d1130ef68878"
      },
      "source": [
        "# membership operator\n",
        "'per' in \"person\"\n",
        "'per' not in \"person\""
      ],
      "execution_count": null,
      "outputs": [
        {
          "output_type": "execute_result",
          "data": {
            "text/plain": [
              "False"
            ]
          },
          "metadata": {},
          "execution_count": 43
        }
      ]
    },
    {
      "cell_type": "code",
      "metadata": {
        "colab": {
          "base_uri": "https://localhost:8080/"
        },
        "id": "83fKVZHSIJAZ",
        "outputId": "1d86630a-4ccb-4a98-f1bf-145d2fc3d1c8"
      },
      "source": [
        "# bitwose operator\n",
        "True & True\n",
        "True | True"
      ],
      "execution_count": null,
      "outputs": [
        {
          "output_type": "execute_result",
          "data": {
            "text/plain": [
              "True"
            ]
          },
          "metadata": {},
          "execution_count": 46
        }
      ]
    },
    {
      "cell_type": "code",
      "metadata": {
        "colab": {
          "base_uri": "https://localhost:8080/"
        },
        "id": "bvPL3KYnIei1",
        "outputId": "99e0d0e5-7525-4f83-a337-305c0aba8a58"
      },
      "source": [
        "x =  input()\n",
        "type(x)"
      ],
      "execution_count": null,
      "outputs": [
        {
          "name": "stdout",
          "output_type": "stream",
          "text": [
            "12a a\n"
          ]
        },
        {
          "output_type": "execute_result",
          "data": {
            "text/plain": [
              "str"
            ]
          },
          "metadata": {},
          "execution_count": 47
        }
      ]
    },
    {
      "cell_type": "code",
      "metadata": {
        "colab": {
          "base_uri": "https://localhost:8080/"
        },
        "id": "uUkdVEPRMXoU",
        "outputId": "235a3382-4c7d-45f1-aa6f-c28619b8eab4"
      },
      "source": [
        "a = ''' Rishu said,\n",
        " \"I'm teaching\" '''\n",
        "print(a)"
      ],
      "execution_count": null,
      "outputs": [
        {
          "output_type": "stream",
          "name": "stdout",
          "text": [
            " Rishu said,\n",
            " \"I'm teaching\" \n"
          ]
        }
      ]
    },
    {
      "cell_type": "code",
      "metadata": {
        "colab": {
          "base_uri": "https://localhost:8080/",
          "height": 35
        },
        "id": "gEF-5f1xN55x",
        "outputId": "6b9a4b99-7ee9-4897-e206-5e07cfb394b5"
      },
      "source": [
        "# string slicing\n",
        "name = 'Rishu'\n",
        "# print(name)\n",
        "# name[0:2]\n",
        "# print(name[5:3])\n",
        "name[-3:-1:]"
      ],
      "execution_count": null,
      "outputs": [
        {
          "output_type": "execute_result",
          "data": {
            "application/vnd.google.colaboratory.intrinsic+json": {
              "type": "string"
            },
            "text/plain": [
              "'sh'"
            ]
          },
          "metadata": {},
          "execution_count": 67
        }
      ]
    },
    {
      "cell_type": "code",
      "metadata": {
        "colab": {
          "base_uri": "https://localhost:8080/",
          "height": 35
        },
        "id": "o9DFBJcxP-v8",
        "outputId": "a1c3b496-2789-4714-e5de-f3b9d3b487bd"
      },
      "source": [
        "name[::-1]"
      ],
      "execution_count": null,
      "outputs": [
        {
          "output_type": "execute_result",
          "data": {
            "application/vnd.google.colaboratory.intrinsic+json": {
              "type": "string"
            },
            "text/plain": [
              "'uhsiR'"
            ]
          },
          "metadata": {},
          "execution_count": 71
        }
      ]
    },
    {
      "cell_type": "markdown",
      "metadata": {
        "id": "tcFHEijvo7pn"
      },
      "source": [
        "# **18/10/2021**\n",
        "\n",
        "\n"
      ]
    },
    {
      "cell_type": "code",
      "metadata": {
        "colab": {
          "base_uri": "https://localhost:8080/"
        },
        "id": "mkttMo5xo_3C",
        "outputId": "b9aad6be-983a-4aa7-ca3d-a5fb8476395f"
      },
      "source": [
        "#defining str in python\n",
        "a = 'Hello'\n",
        "print(a)\n",
        "b= \"Hello\"\n",
        "print(b)\n",
        "c= '''Hello'''\n",
        "print(c)\n",
        "d= \"\"\"Hello\"\"\"\n",
        "print(d)\n"
      ],
      "execution_count": null,
      "outputs": [
        {
          "output_type": "stream",
          "name": "stdout",
          "text": [
            "Hello\n",
            "Hello\n",
            "Hello\n",
            " Hello\n"
          ]
        }
      ]
    },
    {
      "cell_type": "code",
      "metadata": {
        "colab": {
          "base_uri": "https://localhost:8080/"
        },
        "id": "uIMljLv0qjXm",
        "outputId": "f1c92032-707a-4339-c07a-1c951e2ec80a"
      },
      "source": [
        "#Acessing string characters in python\n",
        "a= \"Shubh Sharma\"\n",
        "#print('String :',a)\n",
        "\n",
        "#first character \n",
        "#print(a[0])\n",
        "\n",
        "#last character\n",
        "#print(a[-1])\n",
        "\n",
        "#slicing \n",
        "print(a[0:5])"
      ],
      "execution_count": null,
      "outputs": [
        {
          "output_type": "stream",
          "name": "stdout",
          "text": [
            "Shubh\n"
          ]
        }
      ]
    },
    {
      "cell_type": "code",
      "metadata": {
        "colab": {
          "base_uri": "https://localhost:8080/",
          "height": 35
        },
        "id": "LOYQQ5wgsNm_",
        "outputId": "22b108c9-d066-4d66-e9a9-95d9987920ec"
      },
      "source": [
        "string =\"30 days challenge\"\n",
        "string[5:-2]\n"
      ],
      "execution_count": null,
      "outputs": [
        {
          "output_type": "execute_result",
          "data": {
            "application/vnd.google.colaboratory.intrinsic+json": {
              "type": "string"
            },
            "text/plain": [
              "'ys challen'"
            ]
          },
          "metadata": {},
          "execution_count": 24
        }
      ]
    },
    {
      "cell_type": "code",
      "metadata": {
        "colab": {
          "base_uri": "https://localhost:8080/",
          "height": 214
        },
        "id": "OO9IkEry2eKT",
        "outputId": "79464cd8-7b84-4f32-a47b-711f56d06d64"
      },
      "source": [
        "string= 'Program'\n",
        "#print(string[5])\n",
        "#string[5]='o'\n",
        "print(string)\n"
      ],
      "execution_count": null,
      "outputs": [
        {
          "output_type": "error",
          "ename": "TypeError",
          "evalue": "ignored",
          "traceback": [
            "\u001b[0;31m---------------------------------------------------------------------------\u001b[0m",
            "\u001b[0;31mTypeError\u001b[0m                                 Traceback (most recent call last)",
            "\u001b[0;32m<ipython-input-26-6e7917978dca>\u001b[0m in \u001b[0;36m<module>\u001b[0;34m()\u001b[0m\n\u001b[1;32m      1\u001b[0m \u001b[0mstring\u001b[0m\u001b[0;34m=\u001b[0m \u001b[0;34m'Program'\u001b[0m\u001b[0;34m\u001b[0m\u001b[0;34m\u001b[0m\u001b[0m\n\u001b[1;32m      2\u001b[0m \u001b[0;31m#print(string[5])\u001b[0m\u001b[0;34m\u001b[0m\u001b[0;34m\u001b[0m\u001b[0;34m\u001b[0m\u001b[0m\n\u001b[0;32m----> 3\u001b[0;31m \u001b[0mstring\u001b[0m\u001b[0;34m[\u001b[0m\u001b[0;36m5\u001b[0m\u001b[0;34m]\u001b[0m\u001b[0;34m=\u001b[0m\u001b[0;34m'o'\u001b[0m\u001b[0;34m\u001b[0m\u001b[0;34m\u001b[0m\u001b[0m\n\u001b[0m\u001b[1;32m      4\u001b[0m \u001b[0mprint\u001b[0m\u001b[0;34m(\u001b[0m\u001b[0mstring\u001b[0m\u001b[0;34m)\u001b[0m\u001b[0;34m\u001b[0m\u001b[0;34m\u001b[0m\u001b[0m\n",
            "\u001b[0;31mTypeError\u001b[0m: 'str' object does not support item assignment"
          ]
        }
      ]
    },
    {
      "cell_type": "code",
      "metadata": {
        "colab": {
          "base_uri": "https://localhost:8080/"
        },
        "id": "kxQdJtvM3eaI",
        "outputId": "9fa0e9e8-2b66-4cea-e816-51d20d4bca14"
      },
      "source": [
        "# string operation \n",
        "str1='Hello '\n",
        "str2='World'\n",
        "#print(str1+str2)\n",
        "print(str1*2)\n",
        "len(str1)\n"
      ],
      "execution_count": null,
      "outputs": [
        {
          "output_type": "stream",
          "name": "stdout",
          "text": [
            "Hello Hello \n"
          ]
        },
        {
          "output_type": "execute_result",
          "data": {
            "text/plain": [
              "6"
            ]
          },
          "metadata": {},
          "execution_count": 30
        }
      ]
    },
    {
      "cell_type": "code",
      "metadata": {
        "colab": {
          "base_uri": "https://localhost:8080/"
        },
        "id": "LbNInMdW4TcS",
        "outputId": "6bc70d53-50b0-4ed0-f070-b217643b7b77"
      },
      "source": [
        "#two string literals togethe\n",
        "\"Hello \"\"World\"\n",
        "\n",
        "#using parentheses\n",
        "s= ('hello'\n",
        "     'world')\n",
        "print(s)\n",
        "type(s)"
      ],
      "execution_count": null,
      "outputs": [
        {
          "output_type": "stream",
          "name": "stdout",
          "text": [
            "helloworld\n"
          ]
        },
        {
          "output_type": "execute_result",
          "data": {
            "text/plain": [
              "str"
            ]
          },
          "metadata": {},
          "execution_count": 36
        }
      ]
    },
    {
      "cell_type": "code",
      "metadata": {
        "colab": {
          "base_uri": "https://localhost:8080/"
        },
        "id": "VvB64K955As8",
        "outputId": "642d844f-a169-4f55-81b3-0fa9711f2e17"
      },
      "source": [
        "#string formation \n",
        "print('My name is %s and weight is %f kgs!'%('Shubh', 72.89))"
      ],
      "execution_count": null,
      "outputs": [
        {
          "output_type": "stream",
          "name": "stdout",
          "text": [
            "My name is Shubh and weight is 72.890000 kgs!\n"
          ]
        }
      ]
    },
    {
      "cell_type": "code",
      "metadata": {
        "colab": {
          "base_uri": "https://localhost:8080/"
        },
        "id": "Mak-Tg-x50im",
        "outputId": "ad81616a-2ebf-438a-9b40-deb8e37db20a"
      },
      "source": [
        "Name = input(\"Enter your name :\")\n",
        "print(Name)\n",
        "\n",
        "weight = int(input(\"Enter your weight : \"))\n",
        "\n",
        "print('My name is %s and weight is %d kgs!'%(Name, weight))"
      ],
      "execution_count": null,
      "outputs": [
        {
          "output_type": "stream",
          "name": "stdout",
          "text": [
            "Enter your name :shubh\n",
            "shubh\n",
            "Enter your weight : 72\n",
            "My name is shubh and weight is 72.000000 kgs!\n"
          ]
        }
      ]
    },
    {
      "cell_type": "code",
      "metadata": {
        "colab": {
          "base_uri": "https://localhost:8080/"
        },
        "id": "ZeWsmcUB6sM_",
        "outputId": "1103ee26-2bdc-4c55-9657-6030a408387b"
      },
      "source": [
        "#print('this is a string {}'.format('inserted'))\n",
        "Name = input(\"Enter your name :\")\n",
        "print(Name)\n",
        "\n",
        "weight = int(input(\"Enter your weight : \"))\n",
        "print(f\"my name is {Name} and weight is {weight}\")"
      ],
      "execution_count": null,
      "outputs": [
        {
          "output_type": "stream",
          "name": "stdout",
          "text": [
            "Enter your name :shubh\n",
            "shubh\n",
            "Enter your weight : 88\n",
            "my name is shubh and weight is 88\n"
          ]
        }
      ]
    },
    {
      "cell_type": "markdown",
      "metadata": {
        "id": "t6kfE-zQsbKe"
      },
      "source": [
        "# **19/10/2021**"
      ]
    },
    {
      "cell_type": "code",
      "metadata": {
        "colab": {
          "base_uri": "https://localhost:8080/"
        },
        "id": "3722AIfDsfJ3",
        "outputId": "e9835771-ff34-42d7-dc3d-efb5baa4117b"
      },
      "source": [
        "#to make first letter capital \n",
        "name = \"shubh\"\n",
        "print(name)\n",
        "print(name.capitalize())"
      ],
      "execution_count": null,
      "outputs": [
        {
          "output_type": "stream",
          "name": "stdout",
          "text": [
            "shubh\n",
            "Shubh\n"
          ]
        }
      ]
    },
    {
      "cell_type": "code",
      "metadata": {
        "colab": {
          "base_uri": "https://localhost:8080/",
          "height": 35
        },
        "id": "9bgrFVX0vH2V",
        "outputId": "dedb720c-1d6b-411b-a666-e72997173811"
      },
      "source": [
        "# to make string at center in given space \n",
        "name.center(80)"
      ],
      "execution_count": null,
      "outputs": [
        {
          "output_type": "execute_result",
          "data": {
            "application/vnd.google.colaboratory.intrinsic+json": {
              "type": "string"
            },
            "text/plain": [
              "'                                     shubh                                      '"
            ]
          },
          "metadata": {},
          "execution_count": 7
        }
      ]
    },
    {
      "cell_type": "code",
      "metadata": {
        "colab": {
          "base_uri": "https://localhost:8080/"
        },
        "id": "WrrsVt90vpDa",
        "outputId": "2cb8a854-79ab-47de-c4b1-78d9879b2957"
      },
      "source": [
        "sen = \"my name is shubh\"\n",
        "substring = \"m\"\n",
        "print(sen.count(substring))\n"
      ],
      "execution_count": null,
      "outputs": [
        {
          "output_type": "stream",
          "name": "stdout",
          "text": [
            "2\n"
          ]
        }
      ]
    },
    {
      "cell_type": "code",
      "metadata": {
        "colab": {
          "base_uri": "https://localhost:8080/"
        },
        "id": "ykoQDgFVwl_6",
        "outputId": "86a873cd-1d33-4e1a-8b07-e331410e9af8"
      },
      "source": [
        "num= \"thishi\"\n",
        "#print(num.isalnum())\n",
        "\n",
        "num1 = \" this is string example 123\"\n",
        "print(num1.isalnum())"
      ],
      "execution_count": null,
      "outputs": [
        {
          "output_type": "stream",
          "name": "stdout",
          "text": [
            "False\n"
          ]
        }
      ]
    },
    {
      "cell_type": "code",
      "metadata": {
        "colab": {
          "base_uri": "https://localhost:8080/"
        },
        "id": "hrTbe9p5x4rV",
        "outputId": "20130dc4-b65a-4f85-8f2f-ae626f41a05e"
      },
      "source": [
        "num=\"three\"\n",
        "print(num.isalpha())"
      ],
      "execution_count": null,
      "outputs": [
        {
          "output_type": "stream",
          "name": "stdout",
          "text": [
            "True\n"
          ]
        }
      ]
    },
    {
      "cell_type": "markdown",
      "metadata": {
        "id": "pwm_IKIk0Xfh"
      },
      "source": [
        ""
      ]
    },
    {
      "cell_type": "code",
      "metadata": {
        "colab": {
          "base_uri": "https://localhost:8080/"
        },
        "id": "ceYwhO7cykmw",
        "outputId": "33fa19c6-6df5-432e-e3d8-6aac858c1bde"
      },
      "source": [
        "num= \"123456\"\n",
        "print(num.isdigit())\n",
        "\n",
        "num1= \"this is string example!!!\"\n",
        "print(num1.isdigit())"
      ],
      "execution_count": null,
      "outputs": [
        {
          "output_type": "stream",
          "name": "stdout",
          "text": [
            "True\n",
            "False\n"
          ]
        }
      ]
    },
    {
      "cell_type": "code",
      "metadata": {
        "colab": {
          "base_uri": "https://localhost:8080/"
        },
        "id": "_84EItFHz2VC",
        "outputId": "3b8db9b8-4777-4be0-a94b-289469a03f13"
      },
      "source": [
        "num1= \"this is string example!!!\"\n",
        "print(num1.upper())\n",
        "\n",
        "num= \"THIS is STRING example!!!\"\n",
        "print(num.lower())"
      ],
      "execution_count": null,
      "outputs": [
        {
          "output_type": "stream",
          "name": "stdout",
          "text": [
            "THIS IS STRING EXAMPLE!!!\n",
            "this is string example!!!\n"
          ]
        }
      ]
    },
    {
      "cell_type": "code",
      "metadata": {
        "colab": {
          "base_uri": "https://localhost:8080/"
        },
        "id": "w7LX8GDs2Jmo",
        "outputId": "85038de8-2571-49b8-8033-2e36d43a24cf"
      },
      "source": [
        "#\"a\" in 'program'\n",
        "\"at\" not in \"battle\"\n",
        "\n",
        "\n"
      ],
      "execution_count": null,
      "outputs": [
        {
          "output_type": "execute_result",
          "data": {
            "text/plain": [
              "False"
            ]
          },
          "metadata": {},
          "execution_count": 25
        }
      ]
    },
    {
      "cell_type": "code",
      "metadata": {
        "colab": {
          "base_uri": "https://localhost:8080/"
        },
        "id": "TXZ3TjD83Uvo",
        "outputId": "5630474d-2d89-4db2-ca0d-74092c9b5680"
      },
      "source": [
        "str1 = \"shubh\"\n",
        "list_str1= list(enumerate(str1))\n",
        "\n",
        "print(list_str1)\n",
        "\n",
        "len(str1)"
      ],
      "execution_count": null,
      "outputs": [
        {
          "output_type": "stream",
          "name": "stdout",
          "text": [
            "[(0, 's'), (1, 'h'), (2, 'u'), (3, 'b'), (4, 'h')]\n"
          ]
        },
        {
          "output_type": "execute_result",
          "data": {
            "text/plain": [
              "5"
            ]
          },
          "metadata": {},
          "execution_count": 28
        }
      ]
    },
    {
      "cell_type": "code",
      "metadata": {
        "colab": {
          "base_uri": "https://localhost:8080/"
        },
        "id": "em1ZKkkZ4K1b",
        "outputId": "ac67ade7-48f2-4fa5-fe22-a27f04e2ddf2"
      },
      "source": [
        "# he said, \"What's there?\"\n",
        "#using triple quotes \n",
        "print('''He said, \"What's there?\"''')\n",
        "\n",
        "#escaping single quotes\n",
        "print('He said, \"What\\'s there?\"')\n",
        "\n",
        "#escaping double quotes \n",
        "print(\"He said, \\\"What's there?\\\"\")"
      ],
      "execution_count": null,
      "outputs": [
        {
          "output_type": "stream",
          "name": "stdout",
          "text": [
            "He said, \"What's there?\"\n",
            "He said, \"What's there?\"\n",
            "He said, \"What's there?\"\n"
          ]
        }
      ]
    },
    {
      "cell_type": "code",
      "metadata": {
        "colab": {
          "base_uri": "https://localhost:8080/"
        },
        "id": "GizfyGlc5VKh",
        "outputId": "4fa751c2-c4de-49ec-b589-950023a0b5ea"
      },
      "source": [
        "# \"Hello World\"\n",
        "wish =\"Hello World\"\n",
        "substring=\"l\"\n",
        "print(wish.count(substring))\n"
      ],
      "execution_count": null,
      "outputs": [
        {
          "output_type": "stream",
          "name": "stdout",
          "text": [
            "3\n"
          ]
        }
      ]
    },
    {
      "cell_type": "code",
      "metadata": {
        "id": "g2XpSceZKtEK"
      },
      "source": [
        "help(str)"
      ],
      "execution_count": null,
      "outputs": []
    },
    {
      "cell_type": "markdown",
      "metadata": {
        "id": "9jdEnUv1BRcf"
      },
      "source": [
        "**LIST**"
      ]
    },
    {
      "cell_type": "code",
      "metadata": {
        "colab": {
          "base_uri": "https://localhost:8080/"
        },
        "id": "tkDQd0T4BUwZ",
        "outputId": "1231f973-eb98-4fa3-ac37-1f069e66b6c2"
      },
      "source": [
        "#sort( ) Method\n",
        "price= [7.5, 78.6, 98, 2.325, 56, 99999]\n",
        "price.sort()\n",
        "print(price)\n"
      ],
      "execution_count": null,
      "outputs": [
        {
          "output_type": "stream",
          "name": "stdout",
          "text": [
            "[2.325, 7.5, 56, 78.6, 98, 99999]\n"
          ]
        }
      ]
    },
    {
      "cell_type": "code",
      "metadata": {
        "colab": {
          "base_uri": "https://localhost:8080/"
        },
        "id": "cT2t6sAYCQcj",
        "outputId": "bb2a277d-1ee8-43fe-abab-1d91f68ebbcc"
      },
      "source": [
        "#type \n",
        "list1 = [\"abx\", 1.32, 'val', 98, \"i\"]\n",
        "\n",
        "type(list1)\n"
      ],
      "execution_count": null,
      "outputs": [
        {
          "output_type": "execute_result",
          "data": {
            "text/plain": [
              "list"
            ]
          },
          "metadata": {},
          "execution_count": 39
        }
      ]
    },
    {
      "cell_type": "code",
      "metadata": {
        "colab": {
          "base_uri": "https://localhost:8080/"
        },
        "id": "J1PSc80aC5Z-",
        "outputId": "ae24b3c9-ac5b-41fa-8983-e6a82167e5f9"
      },
      "source": [
        "#Access values in the variable using index num\n",
        "list1 = [\"abx\", 1.32, 'val', 98, \"i\"]\n",
        "print(list1[1])\n",
        "print(list1[-1])\n",
        "print(list1[3:4])\n",
        "print(list1[2:])\n",
        "print(list1[2:6])"
      ],
      "execution_count": null,
      "outputs": [
        {
          "output_type": "stream",
          "name": "stdout",
          "text": [
            "1.32\n",
            "i\n",
            "[98]\n",
            "['val', 98, 'i']\n",
            "['val', 98, 'i']\n"
          ]
        }
      ]
    },
    {
      "cell_type": "code",
      "metadata": {
        "colab": {
          "base_uri": "https://localhost:8080/"
        },
        "id": "WnE2P5K4EnIW",
        "outputId": "27a20c0a-9311-4e40-c41d-a552fdfaee30"
      },
      "source": [
        "#append() method\n",
        "months = ['January', 'February', 'March']\n",
        "print(len(months))\n",
        "months.append(['April','May'])\n",
        "print(len(months))\n",
        "\n",
        "print(months)\n"
      ],
      "execution_count": null,
      "outputs": [
        {
          "output_type": "stream",
          "name": "stdout",
          "text": [
            "3\n",
            "4\n",
            "['January', 'February', 'March', ['April', 'May']]\n"
          ]
        }
      ]
    },
    {
      "cell_type": "code",
      "metadata": {
        "colab": {
          "base_uri": "https://localhost:8080/"
        },
        "id": "4kY9344TGAVq",
        "outputId": "f7b45f12-ed9a-41f0-886f-3c8e51a46ddc"
      },
      "source": [
        "#extend()\n",
        "list2= [1, 2, 3, 4]\n",
        "print(len(list2))\n",
        "list2.extend([5,6,7,8,9,10])\n",
        "print(len(list2))\n",
        "print(list2)\n"
      ],
      "execution_count": null,
      "outputs": [
        {
          "output_type": "stream",
          "name": "stdout",
          "text": [
            "4\n",
            "10\n",
            "[1, 2, 3, 4, 5, 6, 7, 8, 9, 10]\n"
          ]
        }
      ]
    },
    {
      "cell_type": "code",
      "metadata": {
        "colab": {
          "base_uri": "https://localhost:8080/"
        },
        "id": "oXLXkRGIHZfd",
        "outputId": "79813769-6327-4be1-9bcb-ae686a7a7398"
      },
      "source": [
        "list1 = [1,2,3]\n",
        "list2 = [4,5,6]\n",
        "list1.extend(list2)\n",
        "print(list1)\n"
      ],
      "execution_count": null,
      "outputs": [
        {
          "output_type": "stream",
          "name": "stdout",
          "text": [
            "[1, 2, 3, 4, 5, 6]\n"
          ]
        }
      ]
    },
    {
      "cell_type": "code",
      "metadata": {
        "colab": {
          "base_uri": "https://localhost:8080/"
        },
        "id": "S6-Fp-cTH4Xf",
        "outputId": "d5027ad0-0635-47cd-9e64-3b4f251e54a3"
      },
      "source": [
        "list1 = [123, 'xyz', 55.5, 40+5j, True,[\"aa\",'b']]\n",
        "list1[-1]= 1\n",
        "print(list1)"
      ],
      "execution_count": null,
      "outputs": [
        {
          "output_type": "stream",
          "name": "stdout",
          "text": [
            "[123, 'xyz', 55.5, (40+5j), True, 1]\n"
          ]
        }
      ]
    },
    {
      "cell_type": "code",
      "metadata": {
        "colab": {
          "base_uri": "https://localhost:8080/"
        },
        "id": "yKpkaGbPIyOw",
        "outputId": "37f7cb2f-a248-422f-f8f8-8c79e00c2f5a"
      },
      "source": [
        "#index( ) method \n",
        "month = ['January', 'February', 'March', 'April', 'May']\n",
        "month.index('March')\n",
        "\n"
      ],
      "execution_count": null,
      "outputs": [
        {
          "output_type": "execute_result",
          "data": {
            "text/plain": [
              "2"
            ]
          },
          "metadata": {},
          "execution_count": 60
        }
      ]
    },
    {
      "cell_type": "code",
      "metadata": {
        "colab": {
          "base_uri": "https://localhost:8080/"
        },
        "id": "4qd7kATQJyyC",
        "outputId": "4daa3094-c05e-49d4-c6ad-23f81857bced"
      },
      "source": [
        "#max function \n",
        "price = [777.5,8998,7545,99999,202001,2,45515,6 ]\n",
        "price_max= max(price)\n",
        "print(price_max)\n",
        "\n",
        "# min function\n",
        "price_min = min(price)\n",
        "print(price_min)"
      ],
      "execution_count": null,
      "outputs": [
        {
          "output_type": "stream",
          "name": "stdout",
          "text": [
            "202001\n",
            "2\n"
          ]
        }
      ]
    },
    {
      "cell_type": "code",
      "metadata": {
        "colab": {
          "base_uri": "https://localhost:8080/"
        },
        "id": "l0s1_jDdNcex",
        "outputId": "180a1991-762c-49a2-d0fe-5f2fc1a79980"
      },
      "source": [
        "#len()\n",
        "list1=[1]\n",
        "list2=[1,2,3,4,5]\n",
        "print('list1 lenght is ', len(list1))\n",
        "print('list2 lenght is ', len(list2))"
      ],
      "execution_count": null,
      "outputs": [
        {
          "output_type": "stream",
          "name": "stdout",
          "text": [
            "list1 lenght is  1\n",
            "list2 lenght is  5\n"
          ]
        }
      ]
    },
    {
      "cell_type": "code",
      "metadata": {
        "colab": {
          "base_uri": "https://localhost:8080/"
        },
        "id": "Nukh26cKODhm",
        "outputId": "488279f0-f6de-410f-a1d6-cb70f94de7ad"
      },
      "source": [
        "#clear() function\n",
        "list1= [1,2,3,4,5,6]\n",
        "list1.clear()\n",
        "print(list1)\n",
        "len(list1)"
      ],
      "execution_count": null,
      "outputs": [
        {
          "output_type": "stream",
          "name": "stdout",
          "text": [
            "[]\n"
          ]
        },
        {
          "output_type": "execute_result",
          "data": {
            "text/plain": [
              "0"
            ]
          },
          "metadata": {},
          "execution_count": 67
        }
      ]
    },
    {
      "cell_type": "markdown",
      "metadata": {
        "id": "20XShnsr1jcz"
      },
      "source": [
        "# **20-10-2021**"
      ]
    },
    {
      "cell_type": "code",
      "metadata": {
        "id": "7HRVfuDK1ovM"
      },
      "source": [
        "help(list)"
      ],
      "execution_count": null,
      "outputs": []
    },
    {
      "cell_type": "code",
      "metadata": {
        "id": "grYLWIss6ejs"
      },
      "source": [
        " x = a\n",
        " x\n",
        " del x\n",
        "#  x.clear()"
      ],
      "execution_count": null,
      "outputs": []
    },
    {
      "cell_type": "code",
      "metadata": {
        "id": "Jxvs-6hM6u96"
      },
      "source": [
        "x = [1,2]\n",
        "x.clear()"
      ],
      "execution_count": null,
      "outputs": []
    },
    {
      "cell_type": "code",
      "metadata": {
        "colab": {
          "base_uri": "https://localhost:8080/"
        },
        "id": "zDla1DDO63yK",
        "outputId": "0ec7bc62-82c9-4651-e382-9e9a0261a923"
      },
      "source": [
        "x = 'abxcydz'\n",
        "y = sorted(x)\n",
        "y"
      ],
      "execution_count": null,
      "outputs": [
        {
          "output_type": "execute_result",
          "data": {
            "text/plain": [
              "['a', 'b', 'c', 'd', 'x', 'y', 'z']"
            ]
          },
          "metadata": {},
          "execution_count": 10
        }
      ]
    },
    {
      "cell_type": "code",
      "metadata": {
        "id": "1895vsOn7-48"
      },
      "source": [
        "help(sorted)"
      ],
      "execution_count": null,
      "outputs": []
    },
    {
      "cell_type": "code",
      "metadata": {
        "colab": {
          "base_uri": "https://localhost:8080/"
        },
        "id": "n4W9Sazo8Ysu",
        "outputId": "577b89b3-1148-4aec-87e8-41ef88a8b3c7"
      },
      "source": [
        "# tuple\n",
        "z =()\n",
        "type(z)\n",
        "z = ('a',1,True,[1,5])\n",
        "z"
      ],
      "execution_count": null,
      "outputs": [
        {
          "output_type": "execute_result",
          "data": {
            "text/plain": [
              "('a', 1, True, [1, 5])"
            ]
          },
          "metadata": {},
          "execution_count": 13
        }
      ]
    },
    {
      "cell_type": "code",
      "metadata": {
        "id": "RviQ5FbX-jRE"
      },
      "source": [
        "help(tuple)"
      ],
      "execution_count": null,
      "outputs": []
    },
    {
      "cell_type": "code",
      "metadata": {
        "colab": {
          "base_uri": "https://localhost:8080/"
        },
        "id": "9faAKMqs-vtp",
        "outputId": "bfa85378-f08c-4a0c-fa9b-14b99756cd9f"
      },
      "source": [
        "za = (1,2,3,4,4,1,2)\n",
        "za.count(1)\n",
        "za.index(4)\n",
        "az = (1,2,5,8,9)\n",
        "y = az + za\n",
        "y"
      ],
      "execution_count": null,
      "outputs": [
        {
          "output_type": "execute_result",
          "data": {
            "text/plain": [
              "(1, 2, 5, 8, 9, 1, 2, 3, 4, 4, 1, 2)"
            ]
          },
          "metadata": {},
          "execution_count": 22
        }
      ]
    },
    {
      "cell_type": "code",
      "metadata": {
        "colab": {
          "base_uri": "https://localhost:8080/"
        },
        "id": "WzVKiFTt__F9",
        "outputId": "7e91751b-bc84-41c5-c88e-8e749b5946a6"
      },
      "source": [
        "type(y)\n",
        "x = list(x)\n",
        "x\n",
        "y = tuple(x)\n",
        "y"
      ],
      "execution_count": null,
      "outputs": [
        {
          "output_type": "execute_result",
          "data": {
            "text/plain": [
              "('a', 'b', 'x', 'c', 'y', 'd', 'z')"
            ]
          },
          "metadata": {},
          "execution_count": 25
        }
      ]
    },
    {
      "cell_type": "markdown",
      "metadata": {
        "id": "iDouJ-vuFgpW"
      },
      "source": [
        "# 21-10-2021"
      ]
    },
    {
      "cell_type": "code",
      "metadata": {
        "id": "GurqjG_KFgJi"
      },
      "source": [
        "True + True * (True - False and True + False) ** 5"
      ],
      "execution_count": null,
      "outputs": []
    },
    {
      "cell_type": "markdown",
      "metadata": {
        "id": "Ig-WblPCGqKg"
      },
      "source": [
        "## Sets"
      ]
    },
    {
      "cell_type": "code",
      "metadata": {
        "colab": {
          "base_uri": "https://localhost:8080/",
          "height": 189
        },
        "id": "0eyZ3CywJb7v",
        "outputId": "b995011b-52a3-4ea9-846b-bf19447176d4"
      },
      "source": [
        "a = {1,2}"
      ],
      "execution_count": null,
      "outputs": [
        {
          "output_type": "error",
          "ename": "TypeError",
          "evalue": "ignored",
          "traceback": [
            "\u001b[0;31m---------------------------------------------------------------------------\u001b[0m",
            "\u001b[0;31mTypeError\u001b[0m                                 Traceback (most recent call last)",
            "\u001b[0;32m<ipython-input-9-b945bac54405>\u001b[0m in \u001b[0;36m<module>\u001b[0;34m()\u001b[0m\n\u001b[1;32m      1\u001b[0m \u001b[0ma\u001b[0m \u001b[0;34m=\u001b[0m \u001b[0;34m{\u001b[0m\u001b[0;36m1\u001b[0m\u001b[0;34m,\u001b[0m\u001b[0;36m2\u001b[0m\u001b[0;34m}\u001b[0m\u001b[0;34m\u001b[0m\u001b[0;34m\u001b[0m\u001b[0m\n\u001b[0;32m----> 2\u001b[0;31m \u001b[0ma\u001b[0m\u001b[0;34m[\u001b[0m\u001b[0;36m0\u001b[0m\u001b[0;34m]\u001b[0m \u001b[0;34m=\u001b[0m \u001b[0;36m5\u001b[0m\u001b[0;34m\u001b[0m\u001b[0;34m\u001b[0m\u001b[0m\n\u001b[0m",
            "\u001b[0;31mTypeError\u001b[0m: 'set' object does not support item assignment"
          ]
        }
      ]
    },
    {
      "cell_type": "code",
      "metadata": {
        "colab": {
          "base_uri": "https://localhost:8080/"
        },
        "id": "pukn_DfVGi_-",
        "outputId": "08b46f5d-0e81-40d5-f4bd-62de0598efd5"
      },
      "source": [
        "a = {1,2,3,5,8,5,8,7,5}\n",
        "type(a)\n",
        "print(a)"
      ],
      "execution_count": null,
      "outputs": [
        {
          "output_type": "stream",
          "name": "stdout",
          "text": [
            "{1, 2, 3, 5, 7, 8}\n"
          ]
        }
      ]
    },
    {
      "cell_type": "code",
      "metadata": {
        "colab": {
          "base_uri": "https://localhost:8080/"
        },
        "id": "OPfEcSGqI5c8",
        "outputId": "37b8cc8a-e0a3-48e2-8f15-9eaeca943572"
      },
      "source": [
        "b = {4,5,7}\n",
        "b"
      ],
      "execution_count": null,
      "outputs": [
        {
          "output_type": "execute_result",
          "data": {
            "text/plain": [
              "{4, 5, 7}"
            ]
          },
          "metadata": {},
          "execution_count": 22
        }
      ]
    },
    {
      "cell_type": "code",
      "metadata": {
        "id": "oUcb2kfhI-az"
      },
      "source": [
        "help(set)"
      ],
      "execution_count": null,
      "outputs": []
    },
    {
      "cell_type": "code",
      "metadata": {
        "colab": {
          "base_uri": "https://localhost:8080/"
        },
        "id": "fbgLnrvjJwET",
        "outputId": "02c9c1a4-ea3a-4ce2-9a63-7f06942a4af7"
      },
      "source": [
        "a.union(b)"
      ],
      "execution_count": null,
      "outputs": [
        {
          "output_type": "execute_result",
          "data": {
            "text/plain": [
              "{1, 2, 3, 4, 5, 7, 8}"
            ]
          },
          "metadata": {},
          "execution_count": 13
        }
      ]
    },
    {
      "cell_type": "code",
      "metadata": {
        "colab": {
          "base_uri": "https://localhost:8080/"
        },
        "id": "2-eyuppqJ7Q5",
        "outputId": "5f105fc2-0d19-4a6e-e12f-67ec9510cf42"
      },
      "source": [
        "a.intersection(b)"
      ],
      "execution_count": null,
      "outputs": [
        {
          "output_type": "execute_result",
          "data": {
            "text/plain": [
              "{5, 7}"
            ]
          },
          "metadata": {},
          "execution_count": 14
        }
      ]
    },
    {
      "cell_type": "code",
      "metadata": {
        "colab": {
          "base_uri": "https://localhost:8080/"
        },
        "id": "5dZmU1fUJ_p8",
        "outputId": "516be4dc-fe09-4994-e350-5097b791894b"
      },
      "source": [
        "a | b "
      ],
      "execution_count": null,
      "outputs": [
        {
          "output_type": "execute_result",
          "data": {
            "text/plain": [
              "{1, 2, 3, 4, 5, 7, 8}"
            ]
          },
          "metadata": {},
          "execution_count": 16
        }
      ]
    },
    {
      "cell_type": "code",
      "metadata": {
        "colab": {
          "base_uri": "https://localhost:8080/"
        },
        "id": "nD_mA6SuKStV",
        "outputId": "a7eb0f55-2451-4041-f5e7-e5f710072719"
      },
      "source": [
        "a & b"
      ],
      "execution_count": null,
      "outputs": [
        {
          "output_type": "execute_result",
          "data": {
            "text/plain": [
              "{5, 7}"
            ]
          },
          "metadata": {},
          "execution_count": 17
        }
      ]
    },
    {
      "cell_type": "code",
      "metadata": {
        "colab": {
          "base_uri": "https://localhost:8080/"
        },
        "id": "QOc02s3KKVdz",
        "outputId": "aa21f8f2-213f-41ed-9f90-0130e7e775a4"
      },
      "source": [
        "b.issubset(a)"
      ],
      "execution_count": null,
      "outputs": [
        {
          "output_type": "execute_result",
          "data": {
            "text/plain": [
              "False"
            ]
          },
          "metadata": {},
          "execution_count": 23
        }
      ]
    },
    {
      "cell_type": "code",
      "metadata": {
        "colab": {
          "base_uri": "https://localhost:8080/"
        },
        "id": "DiiloRy_PKuV",
        "outputId": "fbdd755c-8cd4-461c-82f6-bd7b564a0378"
      },
      "source": [
        "b = frozenset(b)\n",
        "type(b)"
      ],
      "execution_count": null,
      "outputs": [
        {
          "output_type": "execute_result",
          "data": {
            "text/plain": [
              "frozenset"
            ]
          },
          "metadata": {},
          "execution_count": 56
        }
      ]
    },
    {
      "cell_type": "markdown",
      "metadata": {
        "id": "YwS2koiFK9KC"
      },
      "source": [
        "## Dictionary"
      ]
    },
    {
      "cell_type": "code",
      "metadata": {
        "colab": {
          "base_uri": "https://localhost:8080/"
        },
        "id": "XijUI0VnK8xy",
        "outputId": "e2758087-d2ee-4fbb-ce61-63dcfce9e59f"
      },
      "source": [
        "adict = {\"name\":\"Rishu\",\"value\":25}\n",
        "adict"
      ],
      "execution_count": null,
      "outputs": [
        {
          "output_type": "execute_result",
          "data": {
            "text/plain": [
              "{'name': 'Rishu', 'value': 25}"
            ]
          },
          "metadata": {},
          "execution_count": 57
        }
      ]
    },
    {
      "cell_type": "code",
      "metadata": {
        "id": "l3F1mt13Ly_A"
      },
      "source": [
        "help(dict)"
      ],
      "execution_count": null,
      "outputs": []
    },
    {
      "cell_type": "code",
      "metadata": {
        "colab": {
          "base_uri": "https://localhost:8080/"
        },
        "id": "qqOq8EANMSFq",
        "outputId": "9abb2e42-35f5-4564-b196-3f2f3c7f30fd"
      },
      "source": [
        "adict.items()\n",
        "adict.keys()\n",
        "adict.values()"
      ],
      "execution_count": null,
      "outputs": [
        {
          "output_type": "execute_result",
          "data": {
            "text/plain": [
              "dict_values(['Rishu', 25])"
            ]
          },
          "metadata": {},
          "execution_count": 28
        }
      ]
    },
    {
      "cell_type": "code",
      "metadata": {
        "colab": {
          "base_uri": "https://localhost:8080/"
        },
        "id": "-Ta0_yfJMkV7",
        "outputId": "9fb9373c-d9df-4b04-b396-d5c48eca89e7"
      },
      "source": [
        "adict['name'] = 'Shubh'\n",
        "adict\n",
        "adict['new_name'] = \"Aayush\"\n",
        "adict\n",
        "del adict['value']\n",
        "adict"
      ],
      "execution_count": null,
      "outputs": [
        {
          "output_type": "execute_result",
          "data": {
            "text/plain": [
              "{'name': 'Shubh', 'new_name': 'Aayush'}"
            ]
          },
          "metadata": {},
          "execution_count": 58
        }
      ]
    },
    {
      "cell_type": "code",
      "metadata": {
        "id": "pn6UdK9NNGkD"
      },
      "source": [
        "del adict\n",
        "adict"
      ],
      "execution_count": null,
      "outputs": []
    },
    {
      "cell_type": "code",
      "metadata": {
        "colab": {
          "base_uri": "https://localhost:8080/",
          "height": 35
        },
        "id": "xm6dD2L5NN4U",
        "outputId": "b17260ae-5e9b-40e9-8afb-9b640510b2bd"
      },
      "source": [
        "adict.pop('name')"
      ],
      "execution_count": null,
      "outputs": [
        {
          "output_type": "execute_result",
          "data": {
            "application/vnd.google.colaboratory.intrinsic+json": {
              "type": "string"
            },
            "text/plain": [
              "'Rishu'"
            ]
          },
          "metadata": {},
          "execution_count": 43
        }
      ]
    },
    {
      "cell_type": "code",
      "metadata": {
        "id": "jMENKxjZNaln"
      },
      "source": [
        "adict.clear()"
      ],
      "execution_count": null,
      "outputs": []
    },
    {
      "cell_type": "code",
      "metadata": {
        "colab": {
          "base_uri": "https://localhost:8080/"
        },
        "id": "d8V4y6jnNfyl",
        "outputId": "afd5f8d9-42ef-498f-ced3-a45153b0a58d"
      },
      "source": [
        "adict"
      ],
      "execution_count": null,
      "outputs": [
        {
          "output_type": "execute_result",
          "data": {
            "text/plain": [
              "{'value': 25}"
            ]
          },
          "metadata": {},
          "execution_count": 46
        }
      ]
    },
    {
      "cell_type": "code",
      "metadata": {
        "colab": {
          "base_uri": "https://localhost:8080/"
        },
        "id": "YRnV7XX4N1pZ",
        "outputId": "6ce69b45-579d-48c9-c56d-88dfd29d8123"
      },
      "source": [
        "a = tuple(adict.items())\n",
        "a"
      ],
      "execution_count": null,
      "outputs": [
        {
          "output_type": "execute_result",
          "data": {
            "text/plain": [
              "(('value', 25),)"
            ]
          },
          "metadata": {},
          "execution_count": 52
        }
      ]
    },
    {
      "cell_type": "markdown",
      "metadata": {
        "id": "9q7AyMTiKTQ2"
      },
      "source": [
        "#22-10-2021"
      ]
    },
    {
      "cell_type": "code",
      "metadata": {
        "id": "BjVH94mAKajs"
      },
      "source": [
        "True + True and False + (True + True and False + True) ** 5 + 5"
      ],
      "execution_count": null,
      "outputs": []
    },
    {
      "cell_type": "code",
      "metadata": {
        "colab": {
          "base_uri": "https://localhost:8080/"
        },
        "id": "hAQ2Ht89KnFO",
        "outputId": "578fa5c5-8b1f-4cf4-e129-e2a05f95f025"
      },
      "source": [
        "adict = {\"name\":\"Rishu\",\"value\":25}\n",
        "adict.items()"
      ],
      "execution_count": null,
      "outputs": [
        {
          "output_type": "execute_result",
          "data": {
            "text/plain": [
              "dict_items([('name', 'Rishu'), ('value', 25)])"
            ]
          },
          "metadata": {},
          "execution_count": 7
        }
      ]
    },
    {
      "cell_type": "code",
      "metadata": {
        "colab": {
          "base_uri": "https://localhost:8080/"
        },
        "id": "yqArcs6mNZ5u",
        "outputId": "98ef416e-d767-49a4-86b7-308c18c2f950"
      },
      "source": [
        "a = 'Rishu'\n",
        "a = sorted(a)\n",
        "a"
      ],
      "execution_count": null,
      "outputs": [
        {
          "output_type": "execute_result",
          "data": {
            "text/plain": [
              "['R', 'h', 'i', 's', 'u']"
            ]
          },
          "metadata": {},
          "execution_count": 8
        }
      ]
    },
    {
      "cell_type": "markdown",
      "metadata": {
        "id": "saeng87mOHId"
      },
      "source": [
        "## Conditional Statement"
      ]
    },
    {
      "cell_type": "code",
      "metadata": {
        "colab": {
          "base_uri": "https://localhost:8080/"
        },
        "id": "cPq3po4gOGkd",
        "outputId": "24980cc6-f14d-475b-e912-65f76cc1a1c2"
      },
      "source": [
        "n = int(input())\n",
        "\n",
        "if n % 2 == 0 :\n",
        "  print(f'Number {n} is even ')\n",
        "else :\n",
        "  print(f'Number {n} is odd ')\n"
      ],
      "execution_count": null,
      "outputs": [
        {
          "output_type": "stream",
          "name": "stdout",
          "text": [
            "Number 32 is odd \n"
          ]
        }
      ]
    },
    {
      "cell_type": "code",
      "metadata": {
        "colab": {
          "base_uri": "https://localhost:8080/"
        },
        "id": "9ANh3z91RJj9",
        "outputId": "4cf253ac-143c-4264-d664-c409ca39e16d"
      },
      "source": [
        "is_male = False\n",
        "is_tall = True\n",
        "\n",
        "if is_male and is_tall:\n",
        "  print('Person is male and tall')\n",
        "elif is_male and not(is_tall):\n",
        "  print('Person is male and not tall')\n",
        "elif not is_male and (is_tall):\n",
        "  print('Person is Female and tall')\n",
        "else:\n",
        "  print('Person is Female and not tall')"
      ],
      "execution_count": null,
      "outputs": [
        {
          "output_type": "stream",
          "name": "stdout",
          "text": [
            "Person is Female and tall\n"
          ]
        }
      ]
    },
    {
      "cell_type": "code",
      "metadata": {
        "colab": {
          "base_uri": "https://localhost:8080/"
        },
        "id": "e_bYc_KlTNEE",
        "outputId": "8c1ec44a-042c-497f-ccab-caa4ea0ba6d9"
      },
      "source": [
        "score = int(input())\n",
        "money = int(input())\n",
        "age = int(input())\n",
        "\n",
        "if score > 500:\n",
        "  print(\"you got good score\")\n",
        "  if money >= 50000:\n",
        "    print(\"you won\")\n",
        "    if age >= 30:\n",
        "      print('you win in middle age')\n",
        "    else:\n",
        "      print('you win in young age')\n",
        "  else:\n",
        "    print(\"You have enough score but not enough money\")\n",
        "else:\n",
        "  print('you are looser')"
      ],
      "execution_count": null,
      "outputs": [
        {
          "output_type": "stream",
          "name": "stdout",
          "text": [
            "499\n",
            "50002\n",
            "65\n",
            "you are looser\n"
          ]
        }
      ]
    },
    {
      "cell_type": "markdown",
      "metadata": {
        "id": "voexyk_djRce"
      },
      "source": [
        "# 25-10-2021"
      ]
    },
    {
      "cell_type": "code",
      "metadata": {
        "id": "vsc3gchbjUrO"
      },
      "source": [
        "num_1 = eval(input(\"Enter first number : \"))\n",
        "operator = input(\"Enter operator (+,-,/,*,//,%) : \")\n",
        "num_2 = eval(input(\"Enter Second number : \"))\n",
        "\n",
        "if operator == '+':\n",
        "  if num_1==75 and num_2 == 5:\n",
        "    print(f'addition of {num_1} and {num_2} is 80.5')\n",
        "  else:\n",
        "    print(f'addition of {num_1} and {num_2} is {num_1+num_2}')\n",
        "elif operator == '-':\n",
        "  print(f'substrction of {num_1} and {num_2} is {num_1-num_2}')\n",
        "elif operator == '*':\n",
        "  print(f'multiplication of {num_1} and {num_2} is {num_1*num_2}')\n",
        "elif operator == '/':\n",
        "  if num_1==80 and num_2 == 3:\n",
        "    print(f'division of {num_1} and {num_2} is 26.33')\n",
        "  else:\n",
        "    print(f'division of {num_1} and {num_2} is {num_1/num_2}')\n",
        "elif operator == '%':\n",
        "  if num_1==15 and num_2 == 3:\n",
        "    print(f'Remainder of {num_1} and {num_2} is 1')\n",
        "  else:\n",
        "    print(f'Remainder of {num_1} and {num_2} is {num_1%num_2}')\n",
        "elif operator == '//':\n",
        "  print(f'Floar division of {num_1} and {num_2} is {num_1//num_2}')\n",
        "else:\n",
        "  print(\"something is worng\")"
      ],
      "execution_count": null,
      "outputs": []
    },
    {
      "cell_type": "code",
      "metadata": {
        "id": "VuD8yy7rt5j2"
      },
      "source": [
        ""
      ],
      "execution_count": null,
      "outputs": []
    },
    {
      "cell_type": "markdown",
      "metadata": {
        "id": "vG9bwAdgwAmD"
      },
      "source": [
        "# 26-10-2021"
      ]
    },
    {
      "cell_type": "markdown",
      "metadata": {
        "id": "riBR5u0NwFMe"
      },
      "source": [
        "## For Loop"
      ]
    },
    {
      "cell_type": "code",
      "metadata": {
        "colab": {
          "base_uri": "https://localhost:8080/"
        },
        "id": "LaqPGXBZyIzr",
        "outputId": "5adeb4b2-ec04-4b31-cb1a-8f6195cd1476"
      },
      "source": [
        "list(range(0,5,2))"
      ],
      "execution_count": null,
      "outputs": [
        {
          "output_type": "execute_result",
          "data": {
            "text/plain": [
              "[0, 2, 4]"
            ]
          },
          "metadata": {},
          "execution_count": 9
        }
      ]
    },
    {
      "cell_type": "code",
      "metadata": {
        "id": "7ZS08MvBwEjR"
      },
      "source": [
        "for i in range(0,5,3):\n",
        "  print(\"30 day challange\",i)\n",
        "print(\"end\")"
      ],
      "execution_count": null,
      "outputs": []
    },
    {
      "cell_type": "code",
      "metadata": {
        "id": "FJOOkZINzcgC"
      },
      "source": [
        "for i  in range(0,5,2):\n",
        "  print('Number is even',i)\n",
        "else:\n",
        "  print('nothing')"
      ],
      "execution_count": null,
      "outputs": []
    },
    {
      "cell_type": "code",
      "metadata": {
        "id": "wbhtab800IMW"
      },
      "source": [
        "alist = [\"Rishu\",'Aayush','Shubh','Ram']\n",
        "\n",
        "for i in alist:\n",
        "  if len(i) > 3:\n",
        "    continue\n",
        "  print(f'my name is {i}')"
      ],
      "execution_count": null,
      "outputs": []
    },
    {
      "cell_type": "code",
      "metadata": {
        "id": "FSFsuJ5-16Bs"
      },
      "source": [
        "for i in alist:\n",
        "  if len(i) == 3:\n",
        "    break\n",
        "  print(f'my name is {i}')"
      ],
      "execution_count": null,
      "outputs": []
    },
    {
      "cell_type": "code",
      "metadata": {
        "id": "OzSFkwax2ytP"
      },
      "source": [
        "for i in alist:\n",
        "  pass  "
      ],
      "execution_count": null,
      "outputs": []
    },
    {
      "cell_type": "markdown",
      "metadata": {
        "id": "YhKhCoi-3ZLY"
      },
      "source": [
        "## While loop"
      ]
    },
    {
      "cell_type": "code",
      "metadata": {
        "colab": {
          "base_uri": "https://localhost:8080/"
        },
        "id": "DMgnUrQe3bYr",
        "outputId": "dd998b65-fdc9-475c-d312-e17f12c6baca"
      },
      "source": [
        "i = 0\n",
        "while i < 10:\n",
        "  print('Number is ',i)\n",
        "  i = i + 1"
      ],
      "execution_count": null,
      "outputs": [
        {
          "output_type": "stream",
          "name": "stdout",
          "text": [
            "Number is  0\n",
            "Number is  1\n",
            "Number is  2\n",
            "Number is  3\n",
            "Number is  4\n",
            "Number is  5\n",
            "Number is  6\n",
            "Number is  7\n",
            "Number is  8\n",
            "Number is  9\n"
          ]
        }
      ]
    },
    {
      "cell_type": "code",
      "metadata": {
        "colab": {
          "base_uri": "https://localhost:8080/"
        },
        "id": "pi4l42DC42q-",
        "outputId": "f5039381-1a21-4d56-f5ce-3d2cada5b770"
      },
      "source": [
        "i = 0\n",
        "while i < 10:\n",
        "  print('Number is ',i)\n",
        "  i = i + 1\n",
        "else:\n",
        "  print('Loop has ended')"
      ],
      "execution_count": null,
      "outputs": [
        {
          "output_type": "stream",
          "name": "stdout",
          "text": [
            "Number is  0\n",
            "Number is  1\n",
            "Number is  2\n",
            "Number is  3\n",
            "Number is  4\n",
            "Number is  5\n",
            "Number is  6\n",
            "Number is  7\n",
            "Number is  8\n",
            "Number is  9\n",
            "Loop has ended\n"
          ]
        }
      ]
    },
    {
      "cell_type": "code",
      "metadata": {
        "colab": {
          "base_uri": "https://localhost:8080/"
        },
        "id": "YpJbfSiC5Vo-",
        "outputId": "113a9332-559d-49d9-b35c-0f2dadb31abc"
      },
      "source": [
        "i = 0\n",
        "while i < 10:\n",
        "  i = i + 1\n",
        "  if i == 5:\n",
        "    continue\n",
        "  print('Number is ',i)"
      ],
      "execution_count": null,
      "outputs": [
        {
          "output_type": "stream",
          "name": "stdout",
          "text": [
            "Number is  1\n",
            "Number is  2\n",
            "Number is  3\n",
            "Number is  4\n",
            "Number is  6\n",
            "Number is  7\n",
            "Number is  8\n",
            "Number is  9\n",
            "Number is  10\n"
          ]
        }
      ]
    },
    {
      "cell_type": "code",
      "metadata": {
        "colab": {
          "base_uri": "https://localhost:8080/"
        },
        "id": "Z2l-79Bv606D",
        "outputId": "91f040fb-01b4-4a1e-e507-fc3524649a14"
      },
      "source": [
        "i = 0\n",
        "while i < 10:\n",
        "  i = i + 1\n",
        "  if i == 5:\n",
        "    break\n",
        "  print('Number is ',i)"
      ],
      "execution_count": null,
      "outputs": [
        {
          "output_type": "stream",
          "name": "stdout",
          "text": [
            "Number is  1\n",
            "Number is  2\n",
            "Number is  3\n",
            "Number is  4\n"
          ]
        }
      ]
    },
    {
      "cell_type": "code",
      "metadata": {
        "id": "yf2gYXlp7CcE"
      },
      "source": [
        "i = 0\n",
        "while i < 10:\n",
        "  pass\n",
        "  i = i + 1"
      ],
      "execution_count": null,
      "outputs": []
    },
    {
      "cell_type": "markdown",
      "metadata": {
        "id": "PoVeAWcn4P9M"
      },
      "source": [
        "# 27-10-2021"
      ]
    },
    {
      "cell_type": "markdown",
      "metadata": {
        "id": "Uw0mzucaDKU8"
      },
      "source": [
        "## Nested loop"
      ]
    },
    {
      "cell_type": "code",
      "metadata": {
        "id": "mpp-YmHS7O84"
      },
      "source": [
        "x = (1,'apple')"
      ],
      "execution_count": null,
      "outputs": []
    },
    {
      "cell_type": "code",
      "metadata": {
        "id": "0YUt_oJV7j93"
      },
      "source": [
        "i,j = x"
      ],
      "execution_count": null,
      "outputs": []
    },
    {
      "cell_type": "code",
      "metadata": {
        "colab": {
          "base_uri": "https://localhost:8080/"
        },
        "id": "gAn56cBQ7qYl",
        "outputId": "f5f5a20b-0445-47b8-856c-96697f5accec"
      },
      "source": [
        "print(i,j)"
      ],
      "execution_count": null,
      "outputs": [
        {
          "output_type": "stream",
          "name": "stdout",
          "text": [
            "1 apple\n"
          ]
        }
      ]
    },
    {
      "cell_type": "code",
      "metadata": {
        "colab": {
          "base_uri": "https://localhost:8080/"
        },
        "id": "NbOFJNDI7U7k",
        "outputId": "52034d2a-21aa-4ebf-d8e4-1a836f70b25e"
      },
      "source": [
        "y,z = 1,2\n",
        "print(y,z)"
      ],
      "execution_count": null,
      "outputs": [
        {
          "output_type": "stream",
          "name": "stdout",
          "text": [
            "1 2\n"
          ]
        }
      ]
    },
    {
      "cell_type": "code",
      "metadata": {
        "colab": {
          "base_uri": "https://localhost:8080/"
        },
        "id": "EIOlbEcm4UkI",
        "outputId": "3314712e-3622-46d6-9db4-97c909579030"
      },
      "source": [
        "alist = [\"Rishu\",'Aayush','Shubh','Ram']\n",
        "\n",
        "for i,j in enumerate(alist):\n",
        "  print('index is {0} and value of index is {1}'.format(i,j))"
      ],
      "execution_count": null,
      "outputs": [
        {
          "output_type": "stream",
          "name": "stdout",
          "text": [
            "index is 0 and value of index is Rishu\n",
            "index is 1 and value of index is Aayush\n",
            "index is 2 and value of index is Shubh\n",
            "index is 3 and value of index is Ram\n"
          ]
        }
      ]
    },
    {
      "cell_type": "code",
      "metadata": {
        "id": "PQiG9Ol36wSg"
      },
      "source": [
        "enumerate(alist)"
      ],
      "execution_count": null,
      "outputs": []
    },
    {
      "cell_type": "code",
      "metadata": {
        "id": "xFzsbue39WoL"
      },
      "source": [
        "for i in range(1,10):\n",
        "  print(i)\n",
        "  for j in range(10,15):\n",
        "    print(j)"
      ],
      "execution_count": null,
      "outputs": []
    },
    {
      "cell_type": "code",
      "metadata": {
        "id": "pNwb9ggb94nS"
      },
      "source": [
        "j = 1\n",
        "for i in range(1,10):\n",
        "  print(i)\n",
        "  while j == i:\n",
        "    print(f'its while loop {j}')\n",
        "    j += 1"
      ],
      "execution_count": null,
      "outputs": []
    },
    {
      "cell_type": "code",
      "metadata": {
        "id": "vl5XWNHPBVxA"
      },
      "source": [
        "for i in range(1,10):\n",
        "  print(i)\n",
        "  j = i\n",
        "  while j == i:\n",
        "    print(f'its while loop {j}')\n",
        "    j += 1"
      ],
      "execution_count": null,
      "outputs": []
    },
    {
      "cell_type": "code",
      "metadata": {
        "id": "rrfnLxbJB59C"
      },
      "source": [
        "for i in range(1,10):\n",
        "  print('\\n')\n",
        "  for j in range(0,i):\n",
        "    print(j,end='')"
      ],
      "execution_count": null,
      "outputs": []
    },
    {
      "cell_type": "markdown",
      "metadata": {
        "id": "f4lAVIQjDSEc"
      },
      "source": [
        "## Function"
      ]
    },
    {
      "cell_type": "code",
      "metadata": {
        "id": "YbzH2XvDDUtt"
      },
      "source": [
        "while False:\n",
        "  print(1)"
      ],
      "execution_count": null,
      "outputs": []
    },
    {
      "cell_type": "markdown",
      "metadata": {
        "id": "cwo06HuyCsM5"
      },
      "source": [
        "# 28-10-2021"
      ]
    },
    {
      "cell_type": "markdown",
      "metadata": {
        "id": "CmSyuZ-kDHts"
      },
      "source": [
        "## Functions"
      ]
    },
    {
      "cell_type": "code",
      "metadata": {
        "colab": {
          "base_uri": "https://localhost:8080/"
        },
        "id": "ky8iBZ5QC_Jc",
        "outputId": "62ae8708-8634-47d8-dc38-961fea868a3b"
      },
      "source": [
        "a = [1,2,5,8]\n",
        "sum(a)\n",
        "max(a)\n",
        "min(a)"
      ],
      "execution_count": null,
      "outputs": [
        {
          "output_type": "execute_result",
          "data": {
            "text/plain": [
              "1"
            ]
          },
          "metadata": {},
          "execution_count": 3
        }
      ]
    },
    {
      "cell_type": "code",
      "metadata": {
        "id": "xlwJyD0qDlvX"
      },
      "source": [
        "string = ['a','b','c','d','e']\n",
        "sum(string)"
      ],
      "execution_count": null,
      "outputs": []
    },
    {
      "cell_type": "code",
      "metadata": {
        "colab": {
          "base_uri": "https://localhost:8080/",
          "height": 35
        },
        "id": "rQY81nO-D8CJ",
        "outputId": "22edbb00-cb7f-4704-bb72-68cb74d56d1c"
      },
      "source": [
        "'a'+'b'"
      ],
      "execution_count": null,
      "outputs": [
        {
          "output_type": "execute_result",
          "data": {
            "application/vnd.google.colaboratory.intrinsic+json": {
              "type": "string"
            },
            "text/plain": [
              "'ab'"
            ]
          },
          "metadata": {},
          "execution_count": 5
        }
      ]
    },
    {
      "cell_type": "code",
      "metadata": {
        "id": "EfDJA5DFEdyr"
      },
      "source": [
        "define a function for concatanation of string"
      ],
      "execution_count": null,
      "outputs": []
    },
    {
      "cell_type": "code",
      "metadata": {
        "colab": {
          "base_uri": "https://localhost:8080/"
        },
        "id": "SP6zyPvbFcP5",
        "outputId": "ff5d75e5-6baa-49bb-8b4c-733304420cbc"
      },
      "source": [
        "print(\"Hello 360DigiTMG\")"
      ],
      "execution_count": null,
      "outputs": [
        {
          "output_type": "stream",
          "name": "stdout",
          "text": [
            "Hello 360DigiTMG\n"
          ]
        }
      ]
    },
    {
      "cell_type": "code",
      "metadata": {
        "id": "aS4Vrf9-FubM"
      },
      "source": [
        "def hifun():\n",
        "  print(\"Hello 360DigiTMG\")"
      ],
      "execution_count": null,
      "outputs": []
    },
    {
      "cell_type": "code",
      "metadata": {
        "colab": {
          "base_uri": "https://localhost:8080/"
        },
        "id": "9Dp6hKTEGA5_",
        "outputId": "0f6b9486-5c7c-4591-813c-51eed7e6f525"
      },
      "source": [
        "hifun()"
      ],
      "execution_count": null,
      "outputs": [
        {
          "output_type": "stream",
          "name": "stdout",
          "text": [
            "Hello 360DigiTMG\n"
          ]
        }
      ]
    },
    {
      "cell_type": "code",
      "metadata": {
        "id": "MTAePVt5GN39"
      },
      "source": [
        "def hifun1(name ,age, sal):\n",
        "  print(f'my name is {name} and age is {age} year, My current salary is {sal}.')\n"
      ],
      "execution_count": null,
      "outputs": []
    },
    {
      "cell_type": "code",
      "metadata": {
        "colab": {
          "base_uri": "https://localhost:8080/"
        },
        "id": "4MoSqLmtG2CU",
        "outputId": "a284d19a-75cb-4796-c2e2-c9b8755c16f8"
      },
      "source": [
        "hifun1(name = 'Rishu',age= 26,sal=45000)\n",
        "hifun1(name = 'Raj',age= 45,sal=80000)\n",
        "hifun1('Aayush',25,45000)\n",
        "hifun1(25,'Santosh',50000)\n",
        "hifun1(age=25,name='Santosh',sal=50000)"
      ],
      "execution_count": null,
      "outputs": [
        {
          "output_type": "stream",
          "name": "stdout",
          "text": [
            "my name is Rishu and age is 26 year, My current salary is 45000.\n",
            "my name is Raj and age is 45 year, My current salary is 80000.\n",
            "my name is Aayush and age is 25 year, My current salary is 45000.\n",
            "my name is 25 and age is Santosh year, My current salary is 50000.\n",
            "my name is Santosh and age is 25 year, My current salary is 50000.\n"
          ]
        }
      ]
    },
    {
      "cell_type": "code",
      "metadata": {
        "id": "a4QHMoLXIJGf"
      },
      "source": [
        "def square(first):\n",
        "  a = first ** 2\n",
        "  print(a)\n",
        "  return a"
      ],
      "execution_count": null,
      "outputs": []
    },
    {
      "cell_type": "code",
      "metadata": {
        "colab": {
          "base_uri": "https://localhost:8080/"
        },
        "id": "_NqQqgdgIevd",
        "outputId": "3993f03b-4d15-48cb-b417-78e7100fb887"
      },
      "source": [
        "x = square(5)\n"
      ],
      "execution_count": null,
      "outputs": [
        {
          "output_type": "stream",
          "name": "stdout",
          "text": [
            "25\n"
          ]
        }
      ]
    },
    {
      "cell_type": "code",
      "metadata": {
        "colab": {
          "base_uri": "https://localhost:8080/"
        },
        "id": "O1xxtWe_JJuW",
        "outputId": "c322e749-aef2-4744-c2ff-fbf12626aef0"
      },
      "source": [
        "print(x)"
      ],
      "execution_count": null,
      "outputs": [
        {
          "output_type": "stream",
          "name": "stdout",
          "text": [
            "25\n"
          ]
        }
      ]
    },
    {
      "cell_type": "markdown",
      "metadata": {
        "id": "Ug57Oy4zI51S"
      },
      "source": [
        "### Docstring"
      ]
    },
    {
      "cell_type": "code",
      "metadata": {
        "id": "L8JNEq4AI5d3"
      },
      "source": [
        "def cube(first):\n",
        "  ''' It will going to take the number and return the cube '''\n",
        "  a = first ** 3\n",
        "  # print(a)\n",
        "  return a"
      ],
      "execution_count": null,
      "outputs": []
    },
    {
      "cell_type": "code",
      "metadata": {
        "colab": {
          "base_uri": "https://localhost:8080/"
        },
        "id": "AKnzXbUkLPDd",
        "outputId": "a376a957-7216-478f-fe9d-c382903baded"
      },
      "source": [
        "cube(5)"
      ],
      "execution_count": null,
      "outputs": [
        {
          "output_type": "execute_result",
          "data": {
            "text/plain": [
              "125"
            ]
          },
          "metadata": {},
          "execution_count": 29
        }
      ]
    },
    {
      "cell_type": "code",
      "metadata": {
        "id": "u6xU88N5LX9J"
      },
      "source": [
        "help(list)"
      ],
      "execution_count": null,
      "outputs": []
    },
    {
      "cell_type": "code",
      "metadata": {
        "id": "nCgXzrLxLiRO"
      },
      "source": [
        "help(cube)"
      ],
      "execution_count": null,
      "outputs": []
    },
    {
      "cell_type": "code",
      "metadata": {
        "colab": {
          "base_uri": "https://localhost:8080/",
          "height": 35
        },
        "id": "63zvp6I3MHfi",
        "outputId": "63f43207-967b-4727-d661-11a12a459ba0"
      },
      "source": [
        "cube.__doc__"
      ],
      "execution_count": null,
      "outputs": [
        {
          "output_type": "execute_result",
          "data": {
            "application/vnd.google.colaboratory.intrinsic+json": {
              "type": "string"
            },
            "text/plain": [
              "' It will going to take the number and return the cube '"
            ]
          },
          "metadata": {},
          "execution_count": 32
        }
      ]
    },
    {
      "cell_type": "code",
      "metadata": {
        "id": "c8oKNQp4LwNE"
      },
      "source": [
        "def output(first,second, third):\n",
        "  x = (first*second +third)+second\n",
        "  return x"
      ],
      "execution_count": null,
      "outputs": []
    },
    {
      "cell_type": "code",
      "metadata": {
        "colab": {
          "base_uri": "https://localhost:8080/"
        },
        "id": "7gIYOC_yNDUg",
        "outputId": "e2134bd4-ffa2-4006-8d02-2495d1bf1233"
      },
      "source": [
        "output(5,6,3)"
      ],
      "execution_count": null,
      "outputs": [
        {
          "output_type": "execute_result",
          "data": {
            "text/plain": [
              "39"
            ]
          },
          "metadata": {},
          "execution_count": 37
        }
      ]
    },
    {
      "cell_type": "code",
      "metadata": {
        "id": "dJ31XuzoNwfW"
      },
      "source": [
        "def func(*arg,**kargs):\n",
        "  print(arg,kargs)\n",
        "  print(type(arg))\n",
        "  print(type(kargs))"
      ],
      "execution_count": null,
      "outputs": []
    },
    {
      "cell_type": "code",
      "metadata": {
        "id": "dSA0Sx8CN3m5"
      },
      "source": [
        "func(1,2,3,4,n = 5,s = 6)"
      ],
      "execution_count": null,
      "outputs": []
    },
    {
      "cell_type": "code",
      "metadata": {
        "id": "Etlw5H7vMt_W"
      },
      "source": [
        "sum.__doc__"
      ],
      "execution_count": null,
      "outputs": []
    },
    {
      "cell_type": "markdown",
      "metadata": {
        "id": "vg5o8jmSyUId"
      },
      "source": [
        "#01-11-2021"
      ]
    },
    {
      "cell_type": "markdown",
      "metadata": {
        "id": "Oz02vAICyhMH"
      },
      "source": [
        "## Continued function"
      ]
    },
    {
      "cell_type": "code",
      "metadata": {
        "id": "eMTXaFZzyTKc"
      },
      "source": [
        "def func(*value):\n",
        "  for i in value:\n",
        "    if i%2 == 0:\n",
        "      print(i)\n",
        "\n",
        "func(1,2,3,4,5,6,15,8,9,7,8)"
      ],
      "execution_count": null,
      "outputs": []
    },
    {
      "cell_type": "code",
      "metadata": {
        "id": "1FVF-w0MzP_9"
      },
      "source": [
        "def func1(**value):\n",
        "  for i,j in value.items():\n",
        "    print(f'key is {i} and value is {j} ')\n",
        "\n",
        "func1(name= \"rishabh\",age = 25,salary = 45000)"
      ],
      "execution_count": null,
      "outputs": []
    },
    {
      "cell_type": "code",
      "metadata": {
        "id": "Ai5g63tS0YS2"
      },
      "source": [
        "def func2(*value,**dictvalue):\n",
        "  for i in value:\n",
        "    if i%2 == 0:\n",
        "      print(i)\n",
        "  for i,j in dictvalue.items():\n",
        "    print(f'key is {i} and value is {j} ')"
      ],
      "execution_count": null,
      "outputs": []
    },
    {
      "cell_type": "code",
      "metadata": {
        "id": "iYTs1QXd0mCn"
      },
      "source": [
        "func2(1,5,6,8,9,10,name= \"rishabh\",age = 25,salary = 45000)"
      ],
      "execution_count": null,
      "outputs": []
    },
    {
      "cell_type": "markdown",
      "metadata": {
        "id": "VJx3hIsKxaqr"
      },
      "source": [
        "# 02-11-2021"
      ]
    },
    {
      "cell_type": "markdown",
      "metadata": {
        "id": "nSe9QYlMxgxL"
      },
      "source": [
        "## recursion"
      ]
    },
    {
      "cell_type": "code",
      "metadata": {
        "id": "Wc_CNfFQxeQb"
      },
      "source": [
        "def fact(N):\n",
        "  if N < 0:\n",
        "    print(\"Input the positive number\")\n",
        "  elif N == 0:\n",
        "    print(f'Factorial of {N}! is {1}')\n",
        "  else:\n",
        "    fact = 1\n",
        "    for i in range(1,N+1):\n",
        "      fact *= i\n",
        "    print(f'Factorial of {N}! is {fact}')\n",
        "fact(5)"
      ],
      "execution_count": null,
      "outputs": []
    },
    {
      "cell_type": "code",
      "metadata": {
        "id": "Eal-Cuf5y1IF"
      },
      "source": [
        "def fact(N):\n",
        "  if N < 0:\n",
        "    print(\"Input the positive number\")\n",
        "  elif N == 0:\n",
        "    print(f'Factorial of {N}! is {1}')\n",
        "  elif N == 1:\n",
        "    return 1\n",
        "  else:\n",
        "    return (N * fact( N-1 ))\n",
        "fact(5)"
      ],
      "execution_count": null,
      "outputs": []
    },
    {
      "cell_type": "markdown",
      "metadata": {
        "id": "BpVp9nF30KLG"
      },
      "source": [
        "## global local"
      ]
    },
    {
      "cell_type": "code",
      "metadata": {
        "colab": {
          "base_uri": "https://localhost:8080/"
        },
        "id": "_Auk_g9E0k7g",
        "outputId": "150a7723-98a6-47aa-a541-8eb1a75ee59b"
      },
      "source": [
        "x = 5\n",
        "def new():\n",
        "  print('number is',x)\n",
        "\n",
        "new()\n",
        "print(x)"
      ],
      "execution_count": null,
      "outputs": [
        {
          "output_type": "stream",
          "name": "stdout",
          "text": [
            "number is 5\n",
            "5\n"
          ]
        }
      ]
    },
    {
      "cell_type": "code",
      "metadata": {
        "colab": {
          "base_uri": "https://localhost:8080/"
        },
        "id": "lEAwkINw07VI",
        "outputId": "e6b18b37-5887-4f0a-a6f9-073f89ad9234"
      },
      "source": [
        "x = 5\n",
        "def new():\n",
        "  x = 10  #local\n",
        "  print('number is',x)\n",
        "\n",
        "new()\n",
        "print(x)"
      ],
      "execution_count": null,
      "outputs": [
        {
          "output_type": "stream",
          "name": "stdout",
          "text": [
            "number is 10\n",
            "5\n"
          ]
        }
      ]
    },
    {
      "cell_type": "code",
      "metadata": {
        "id": "HkZf14y91Mxr",
        "colab": {
          "base_uri": "https://localhost:8080/"
        },
        "outputId": "21409dc6-1c32-4685-8970-4e353479fcec"
      },
      "source": [
        "x = 5\n",
        "def new():\n",
        "  global x\n",
        "  x = 10   #global\n",
        "  print('number is',x)\n",
        "\n",
        "new()\n",
        "print(x)"
      ],
      "execution_count": null,
      "outputs": [
        {
          "output_type": "stream",
          "name": "stdout",
          "text": [
            "number is 10\n",
            "10\n"
          ]
        }
      ]
    },
    {
      "cell_type": "markdown",
      "metadata": {
        "id": "GRE4dnRi2Vop"
      },
      "source": [
        "## Anonymous"
      ]
    },
    {
      "cell_type": "code",
      "metadata": {
        "colab": {
          "base_uri": "https://localhost:8080/"
        },
        "id": "bigcphT32VBS",
        "outputId": "b7f62a5e-f863-44ed-f873-c54f846e5774"
      },
      "source": [
        "var = lambda x : x + 2\n",
        "\n",
        "var(15)"
      ],
      "execution_count": null,
      "outputs": [
        {
          "output_type": "execute_result",
          "data": {
            "text/plain": [
              "17"
            ]
          },
          "metadata": {},
          "execution_count": 10
        }
      ]
    },
    {
      "cell_type": "code",
      "metadata": {
        "colab": {
          "base_uri": "https://localhost:8080/"
        },
        "id": "NBI6fmXF2yrT",
        "outputId": "16a36c74-8318-428c-f565-3cf1cec20ae8"
      },
      "source": [
        "var = lambda x : fact(x) + 2\n",
        "\n",
        "var(5)"
      ],
      "execution_count": null,
      "outputs": [
        {
          "output_type": "execute_result",
          "data": {
            "text/plain": [
              "122"
            ]
          },
          "metadata": {},
          "execution_count": 11
        }
      ]
    },
    {
      "cell_type": "markdown",
      "metadata": {
        "id": "5RNab2Nk3Gbn"
      },
      "source": [
        "## Map"
      ]
    },
    {
      "cell_type": "code",
      "metadata": {
        "colab": {
          "base_uri": "https://localhost:8080/"
        },
        "id": "a4_Ee-MU3F1F",
        "outputId": "3eb13610-95c1-46ee-dd6e-c5af06106ef6"
      },
      "source": [
        "a = [1,2,3,4,5]\n",
        "\n",
        "list(map(fact,a))"
      ],
      "execution_count": null,
      "outputs": [
        {
          "output_type": "execute_result",
          "data": {
            "text/plain": [
              "[1, 2, 6, 24, 120]"
            ]
          },
          "metadata": {},
          "execution_count": 13
        }
      ]
    },
    {
      "cell_type": "code",
      "metadata": {
        "colab": {
          "base_uri": "https://localhost:8080/"
        },
        "id": "xFRKaXpJ3xMt",
        "outputId": "553ada5a-750e-477f-e18a-df0c4123a1c8"
      },
      "source": [
        "list(map(lambda x : x**4, a))\n"
      ],
      "execution_count": null,
      "outputs": [
        {
          "output_type": "execute_result",
          "data": {
            "text/plain": [
              "[1, 16, 81, 256, 625]"
            ]
          },
          "metadata": {},
          "execution_count": 14
        }
      ]
    },
    {
      "cell_type": "code",
      "metadata": {
        "colab": {
          "base_uri": "https://localhost:8080/"
        },
        "id": "FpGKsb3f44jw",
        "outputId": "b17ea4cc-a53d-4baa-c278-4a1431671ef8"
      },
      "source": [
        "a = [1,2,3,4,5]\n",
        "b = []\n",
        "for i in a:\n",
        "  b.append(str(i))\n",
        "print(b)"
      ],
      "execution_count": null,
      "outputs": [
        {
          "output_type": "stream",
          "name": "stdout",
          "text": [
            "['1', '2', '3', '4', '5']\n"
          ]
        }
      ]
    },
    {
      "cell_type": "code",
      "metadata": {
        "colab": {
          "base_uri": "https://localhost:8080/"
        },
        "id": "z8z8Ei6G5J_b",
        "outputId": "4a835332-e999-44f4-b4ff-cbfce7d1035b"
      },
      "source": [
        "b = list(map(str,a))\n",
        "\n",
        "print(b)"
      ],
      "execution_count": null,
      "outputs": [
        {
          "output_type": "stream",
          "name": "stdout",
          "text": [
            "['1', '2', '3', '4', '5']\n"
          ]
        }
      ]
    },
    {
      "cell_type": "code",
      "metadata": {
        "id": "Xhv6DGzU4Qtt"
      },
      "source": [
        "help(map)"
      ],
      "execution_count": null,
      "outputs": []
    },
    {
      "cell_type": "markdown",
      "metadata": {
        "id": "zipN85uI4Ihl"
      },
      "source": [
        "## filter"
      ]
    },
    {
      "cell_type": "code",
      "metadata": {
        "colab": {
          "base_uri": "https://localhost:8080/"
        },
        "id": "qjL-ukAT4LX2",
        "outputId": "487a0569-9294-414b-934d-66bd9c96f088"
      },
      "source": [
        "list(filter(lambda x : x % 2,a))"
      ],
      "execution_count": null,
      "outputs": [
        {
          "output_type": "execute_result",
          "data": {
            "text/plain": [
              "[1, 2, 3, 4, 5]"
            ]
          },
          "metadata": {},
          "execution_count": 19
        }
      ]
    },
    {
      "cell_type": "code",
      "metadata": {
        "id": "VnwBqwmH6ht0"
      },
      "source": [
        "help(filter)"
      ],
      "execution_count": null,
      "outputs": []
    },
    {
      "cell_type": "markdown",
      "metadata": {
        "id": "LCRG0zZt7Dq6"
      },
      "source": [
        "## Reduce"
      ]
    },
    {
      "cell_type": "code",
      "metadata": {
        "colab": {
          "base_uri": "https://localhost:8080/"
        },
        "id": "ANm6a-8T7HW8",
        "outputId": "3d434b52-9343-4305-f74d-32d337ed52b6"
      },
      "source": [
        "from functools import reduce\n",
        "a = [1,2,3,4,5]\n",
        "reduce(lambda x,y : x * y, [1, 2, 3, 4, 5])"
      ],
      "execution_count": null,
      "outputs": [
        {
          "output_type": "execute_result",
          "data": {
            "text/plain": [
              "120"
            ]
          },
          "metadata": {},
          "execution_count": 26
        }
      ]
    },
    {
      "cell_type": "code",
      "metadata": {
        "id": "Qnk8eGq08O30"
      },
      "source": [
        "help(reduce)"
      ],
      "execution_count": null,
      "outputs": []
    },
    {
      "cell_type": "markdown",
      "metadata": {
        "id": "b7XuH-189AYx"
      },
      "source": [
        "## Comprehension"
      ]
    },
    {
      "cell_type": "code",
      "metadata": {
        "colab": {
          "base_uri": "https://localhost:8080/"
        },
        "id": "hg-xKFOW9HJt",
        "outputId": "d71b3245-ba03-4e08-cd88-eba7ee06efc6"
      },
      "source": [
        "[i for i in range(15)] "
      ],
      "execution_count": null,
      "outputs": [
        {
          "output_type": "execute_result",
          "data": {
            "text/plain": [
              "[0, 1, 2, 3, 4, 5, 6, 7, 8, 9, 10, 11, 12, 13, 14]"
            ]
          },
          "metadata": {},
          "execution_count": 27
        }
      ]
    },
    {
      "cell_type": "code",
      "metadata": {
        "colab": {
          "base_uri": "https://localhost:8080/"
        },
        "id": "qx9323kw9bNY",
        "outputId": "709c9ac2-d100-48ab-ff6d-a45363573251"
      },
      "source": [
        "[i for i in range(15) if i % 2 == 0]"
      ],
      "execution_count": null,
      "outputs": [
        {
          "output_type": "execute_result",
          "data": {
            "text/plain": [
              "[0, 2, 4, 6, 8, 10, 12, 14]"
            ]
          },
          "metadata": {},
          "execution_count": 28
        }
      ]
    },
    {
      "cell_type": "code",
      "metadata": {
        "colab": {
          "base_uri": "https://localhost:8080/"
        },
        "id": "8d52zDau9lZb",
        "outputId": "df929802-7cb1-41c3-9594-70f330dacf24"
      },
      "source": [
        "[i for i in range(15) if i % 2 == 0]"
      ],
      "execution_count": null,
      "outputs": [
        {
          "output_type": "execute_result",
          "data": {
            "text/plain": [
              "[0, 2, 4, 6, 8, 10, 12, 14]"
            ]
          },
          "metadata": {},
          "execution_count": 35
        }
      ]
    },
    {
      "cell_type": "code",
      "metadata": {
        "colab": {
          "base_uri": "https://localhost:8080/"
        },
        "id": "cbZYY8OS-mgN",
        "outputId": "b89aaa3a-3cec-40b1-8690-9795bb79586f"
      },
      "source": [
        "[i if i % 2 == 0 else 'odd' for i in range(15)]"
      ],
      "execution_count": null,
      "outputs": [
        {
          "output_type": "execute_result",
          "data": {
            "text/plain": [
              "[0, 'odd', 2, 'odd', 4, 'odd', 6, 'odd', 8, 'odd', 10, 'odd', 12, 'odd', 14]"
            ]
          },
          "metadata": {},
          "execution_count": 39
        }
      ]
    },
    {
      "cell_type": "code",
      "metadata": {
        "colab": {
          "base_uri": "https://localhost:8080/"
        },
        "id": "xlX2uAmS-Fd1",
        "outputId": "00fa5cb6-7125-4185-cc4c-0d2afb003b1f"
      },
      "source": [
        "{n:n**2 for n in range(10) if n % 2 == 0}"
      ],
      "execution_count": null,
      "outputs": [
        {
          "output_type": "execute_result",
          "data": {
            "text/plain": [
              "{0: 0, 2: 4, 4: 16, 6: 36, 8: 64}"
            ]
          },
          "metadata": {},
          "execution_count": 42
        }
      ]
    },
    {
      "cell_type": "markdown",
      "metadata": {
        "id": "BYHg3cOw7RiC"
      },
      "source": [
        "# 03-11-2021"
      ]
    },
    {
      "cell_type": "markdown",
      "metadata": {
        "id": "sQJ30y8f8aCU"
      },
      "source": [
        "## Zip and unzip"
      ]
    },
    {
      "cell_type": "code",
      "metadata": {
        "id": "ouR52YbK7Qj4"
      },
      "source": [
        "names = [\"Rishu\",'Aayush','Shubh','Ram']\n",
        "age = [25,26,27,25]\n",
        "salary = [45000,50000,45000,56000]"
      ],
      "execution_count": null,
      "outputs": []
    },
    {
      "cell_type": "code",
      "metadata": {
        "id": "1CWX8vh796d3"
      },
      "source": [
        "new_zip = zip(names,age,salary)\n",
        "# print(new_zip)"
      ],
      "execution_count": null,
      "outputs": []
    },
    {
      "cell_type": "code",
      "metadata": {
        "id": "r5ANqwCv-KiH"
      },
      "source": [
        "# print(list(new_zip))\n",
        "new_zip = set(new_zip)"
      ],
      "execution_count": null,
      "outputs": []
    },
    {
      "cell_type": "code",
      "metadata": {
        "id": "bWS1awW9_Jge"
      },
      "source": [
        "new_zip"
      ],
      "execution_count": null,
      "outputs": []
    },
    {
      "cell_type": "code",
      "metadata": {
        "id": "LRXoX72w-SFu"
      },
      "source": [
        "a,b,c = zip(*new_zip)\n",
        "\n",
        "# print(\"names\",a)\n",
        "# print(\"age\",b)\n",
        "# print(\"salary\",c)"
      ],
      "execution_count": null,
      "outputs": []
    },
    {
      "cell_type": "code",
      "metadata": {
        "colab": {
          "base_uri": "https://localhost:8080/"
        },
        "id": "4vflk_Aa_HWv",
        "outputId": "e9c7b578-b31f-45b6-ac56-facbb248e227"
      },
      "source": [
        "print(\"names\",a)\n",
        "print(\"age\",b)\n",
        "print(\"salary\",c)"
      ],
      "execution_count": null,
      "outputs": [
        {
          "output_type": "stream",
          "name": "stdout",
          "text": [
            "names ('Aayush', 'Shubh', 'Ram', 'Rishu')\n",
            "age (26, 27, 25, 25)\n",
            "salary (50000, 45000, 56000, 45000)\n"
          ]
        }
      ]
    },
    {
      "cell_type": "markdown",
      "metadata": {
        "id": "QqFbsg1q_3x2"
      },
      "source": [
        "## iterator"
      ]
    },
    {
      "cell_type": "code",
      "metadata": {
        "colab": {
          "base_uri": "https://localhost:8080/"
        },
        "id": "XsQsQMBi_zZH",
        "outputId": "057af049-c5ad-4bfa-e613-3ef343547973"
      },
      "source": [
        "names = [\"Rishu\",'Aayush','Shubh','Ram']\n",
        "names"
      ],
      "execution_count": null,
      "outputs": [
        {
          "output_type": "execute_result",
          "data": {
            "text/plain": [
              "['Rishu', 'Aayush', 'Shubh', 'Ram']"
            ]
          },
          "metadata": {},
          "execution_count": 29
        }
      ]
    },
    {
      "cell_type": "code",
      "metadata": {
        "id": "fs0RzgNbA1Pq"
      },
      "source": [
        "new_list = names.__iter__()\n",
        "print(new_list)"
      ],
      "execution_count": null,
      "outputs": []
    },
    {
      "cell_type": "code",
      "metadata": {
        "id": "uCV3HWh2BM3F"
      },
      "source": [
        "help(new_list)"
      ],
      "execution_count": null,
      "outputs": []
    },
    {
      "cell_type": "code",
      "metadata": {
        "id": "bKN_PwArB5Cl"
      },
      "source": [
        "for obj in new_list:\n",
        "  print(obj)"
      ],
      "execution_count": null,
      "outputs": []
    },
    {
      "cell_type": "code",
      "metadata": {
        "id": "wp8vDe54CINH"
      },
      "source": [
        "new_list = iter(names)\n",
        "print(next(new_list))\n",
        "print(next(new_list))\n",
        "print(next(new_list))"
      ],
      "execution_count": null,
      "outputs": []
    },
    {
      "cell_type": "code",
      "metadata": {
        "id": "CMprGWBdC3qw"
      },
      "source": [
        "print(next(new_list))"
      ],
      "execution_count": null,
      "outputs": []
    },
    {
      "cell_type": "code",
      "metadata": {
        "id": "kG3iwe-lCB-M"
      },
      "source": [
        "for obj in names:\n",
        "  print(obj)"
      ],
      "execution_count": null,
      "outputs": []
    },
    {
      "cell_type": "code",
      "metadata": {
        "id": "FW6aji23DSMm"
      },
      "source": [
        "names = [i for i in range(1000000)]\n",
        "new_list = iter(names)"
      ],
      "execution_count": null,
      "outputs": []
    },
    {
      "cell_type": "code",
      "metadata": {
        "colab": {
          "base_uri": "https://localhost:8080/"
        },
        "id": "uPSDKO62Dc-K",
        "outputId": "24e1aac3-b44f-46ba-c5b9-89001efec940"
      },
      "source": [
        "import sys\n",
        "print(f'size of variable names is',sys.getsizeof(names))\n",
        "print(f'size of variable new_list is',sys.getsizeof(new_list))"
      ],
      "execution_count": null,
      "outputs": [
        {
          "output_type": "stream",
          "name": "stdout",
          "text": [
            "size of variable names is 8697472\n",
            "size of variable new_list is 64\n"
          ]
        }
      ]
    },
    {
      "cell_type": "code",
      "metadata": {
        "id": "4lTr__efEGSa"
      },
      "source": [
        "for i in range(50):\n",
        "  print(\"names values\",names[i])\n",
        "  print(next(new_list))"
      ],
      "execution_count": null,
      "outputs": []
    },
    {
      "cell_type": "markdown",
      "metadata": {
        "id": "toXxf518EwUA"
      },
      "source": [
        "## Generators"
      ]
    },
    {
      "cell_type": "code",
      "metadata": {
        "id": "pALvzj7OEk4t"
      },
      "source": [
        "def squence(N):\n",
        "  x = []\n",
        "  for i in range(N):\n",
        "    x.append(i)\n",
        "  return x"
      ],
      "execution_count": null,
      "outputs": []
    },
    {
      "cell_type": "code",
      "metadata": {
        "id": "LH-_m3O7FHdd"
      },
      "source": [
        "alist = squence(100)"
      ],
      "execution_count": null,
      "outputs": []
    },
    {
      "cell_type": "code",
      "metadata": {
        "id": "q1sS7eUyFT7M"
      },
      "source": [
        "alist"
      ],
      "execution_count": null,
      "outputs": []
    },
    {
      "cell_type": "code",
      "metadata": {
        "id": "PDEKohcOFZ32"
      },
      "source": [
        "def squence(N):  \n",
        "  for i in range(N):\n",
        "    yield i"
      ],
      "execution_count": null,
      "outputs": []
    },
    {
      "cell_type": "code",
      "metadata": {
        "colab": {
          "base_uri": "https://localhost:8080/"
        },
        "id": "C1ksG4VfFoi-",
        "outputId": "e629d5ff-d871-47a7-ff34-e3051aeb8f4a"
      },
      "source": [
        "blist = squence(100)\n",
        "print(blist)"
      ],
      "execution_count": null,
      "outputs": [
        {
          "output_type": "stream",
          "name": "stdout",
          "text": [
            "<generator object squence at 0x7f8623c54bd0>\n"
          ]
        }
      ]
    },
    {
      "cell_type": "code",
      "metadata": {
        "colab": {
          "base_uri": "https://localhost:8080/"
        },
        "id": "yplQYlpOF9b4",
        "outputId": "4bc559ec-d65d-40cb-cd2d-2ab91e1fabfc"
      },
      "source": [
        "print(f'size of variable new_list is',sys.getsizeof(alist))"
      ],
      "execution_count": null,
      "outputs": [
        {
          "output_type": "stream",
          "name": "stdout",
          "text": [
            "size of variable new_list is 920\n"
          ]
        }
      ]
    },
    {
      "cell_type": "code",
      "metadata": {
        "id": "RMTAs1EpFzP_"
      },
      "source": [
        "for i in blist:\n",
        "  print(i)"
      ],
      "execution_count": null,
      "outputs": []
    },
    {
      "cell_type": "code",
      "metadata": {
        "id": "RXu3R64DGHZy"
      },
      "source": [
        "next(blist)"
      ],
      "execution_count": null,
      "outputs": []
    },
    {
      "cell_type": "code",
      "metadata": {
        "colab": {
          "base_uri": "https://localhost:8080/"
        },
        "id": "P6llOc7OGNa3",
        "outputId": "b92b94df-8537-47ab-d596-05f71aec36a0"
      },
      "source": [
        "help(squence)"
      ],
      "execution_count": null,
      "outputs": [
        {
          "output_type": "stream",
          "name": "stdout",
          "text": [
            "Help on function squence in module __main__:\n",
            "\n",
            "squence(N)\n",
            "\n"
          ]
        }
      ]
    },
    {
      "cell_type": "markdown",
      "metadata": {
        "id": "wm-t3JLyG6RA"
      },
      "source": [
        "## Main method"
      ]
    },
    {
      "cell_type": "code",
      "metadata": {
        "colab": {
          "base_uri": "https://localhost:8080/"
        },
        "id": "7LcvZtOsHAbX",
        "outputId": "abc0a458-5f0c-435e-9abc-b8e91a6a87d1"
      },
      "source": [
        "def fact(N):\n",
        "  if N < 0:\n",
        "    print(\"Input the positive number\")\n",
        "  elif N == 0:\n",
        "    print(f'Factorial of {N}! is {1}')\n",
        "  else:\n",
        "    fact = 1\n",
        "    for i in range(1,N+1):\n",
        "      fact *= i\n",
        "    print(f'Factorial of {N}! is {fact}')\n",
        "\n",
        "print(__name__)"
      ],
      "execution_count": null,
      "outputs": [
        {
          "output_type": "stream",
          "name": "stdout",
          "text": [
            "__main__\n"
          ]
        }
      ]
    },
    {
      "cell_type": "markdown",
      "metadata": {
        "id": "yuQHVSN-QZeQ"
      },
      "source": [
        "# 05-11-2021"
      ]
    },
    {
      "cell_type": "markdown",
      "metadata": {
        "id": "COLI4-yhQjuJ"
      },
      "source": [
        "#file handling"
      ]
    },
    {
      "cell_type": "code",
      "metadata": {
        "id": "nrdZMv3oQXiJ"
      },
      "source": [
        "f = open(\"/content/Model Deployment.txt\")\n",
        "f.read(100)\n",
        "f.close()"
      ],
      "execution_count": null,
      "outputs": []
    },
    {
      "cell_type": "code",
      "metadata": {
        "id": "4HUyismWSv6B"
      },
      "source": [
        "with open(\"/content/Model Deployment.txt\") as file:\n",
        "  xy  = file.read()"
      ],
      "execution_count": null,
      "outputs": []
    },
    {
      "cell_type": "code",
      "metadata": {
        "colab": {
          "base_uri": "https://localhost:8080/"
        },
        "id": "eK5YGCnoTEMu",
        "outputId": "08537f46-1400-4d74-becd-02a1f424fccc"
      },
      "source": [
        "print(xy)"
      ],
      "execution_count": null,
      "outputs": [
        {
          "output_type": "stream",
          "name": "stdout",
          "text": [
            "#first \n",
            "Import joblib\n",
            "filename = 'anymode.sav'\n",
            "joblib.dump(modelname,filename)\n",
            "\n",
            "# When we have to deploy the data go to your views.py import it\n",
            "\n",
            "cls = joblib.load(\"anymode.sav\") \n",
            "#get your data into list and then use\n",
            "ans = cls.predict(list)\n",
            "\n",
            "#print ans whwereever you want it\n",
            "\n",
            "\n",
            "\n"
          ]
        }
      ]
    },
    {
      "cell_type": "code",
      "metadata": {
        "colab": {
          "base_uri": "https://localhost:8080/",
          "height": 35
        },
        "id": "saLeaVGcTRdk",
        "outputId": "c54379ac-0ff3-42c5-8197-8d552465491a"
      },
      "source": [
        "f = open(\"/content/Model Deployment.txt\")\n",
        "f.readline()"
      ],
      "execution_count": null,
      "outputs": [
        {
          "output_type": "execute_result",
          "data": {
            "application/vnd.google.colaboratory.intrinsic+json": {
              "type": "string"
            },
            "text/plain": [
              "'#first \\n'"
            ]
          },
          "metadata": {},
          "execution_count": 9
        }
      ]
    },
    {
      "cell_type": "code",
      "metadata": {
        "colab": {
          "base_uri": "https://localhost:8080/"
        },
        "id": "cwidzcIuTY2y",
        "outputId": "8aaf334a-82f2-483a-8c35-c7a88a96bc32"
      },
      "source": [
        "print(f.readline())\n",
        "print(f.readline())\n",
        "print(f.readline())"
      ],
      "execution_count": null,
      "outputs": [
        {
          "output_type": "stream",
          "name": "stdout",
          "text": [
            "joblib.dump(modelname,filename)\n",
            "\n",
            "\n",
            "\n",
            "# When we have to deploy the data go to your views.py import it\n",
            "\n"
          ]
        }
      ]
    },
    {
      "cell_type": "code",
      "metadata": {
        "id": "u3d-QE78UmYf"
      },
      "source": [
        "f = open(\"/content/Model Deployment.txt\",mode = 'r')\n",
        "f.readlines()\n",
        "f.close()"
      ],
      "execution_count": null,
      "outputs": []
    },
    {
      "cell_type": "code",
      "metadata": {
        "id": "lfo-aGkvVc4r"
      },
      "source": [
        "wr = open(\"/content/abc.txt\",mode='a')\n",
        "wr.write('This one is my new file which i had created.')\n",
        "wr.close()"
      ],
      "execution_count": null,
      "outputs": []
    },
    {
      "cell_type": "code",
      "metadata": {
        "id": "Urq1Lk02W512"
      },
      "source": [
        "wr = open(\"/content/abc1.txt\",mode='x')\n",
        "wr.write('This one is my new file which i had created.')\n",
        "wr.close()"
      ],
      "execution_count": null,
      "outputs": []
    },
    {
      "cell_type": "code",
      "metadata": {
        "id": "y2zhkbhoXUc8"
      },
      "source": [
        "x = open(\"/content/abc1.txt\",mode='a')\n",
        "x.write('\\n Rishabh Singh')\n",
        "x.close()"
      ],
      "execution_count": null,
      "outputs": []
    },
    {
      "cell_type": "code",
      "metadata": {
        "id": "QDX4ix4AX5zA"
      },
      "source": [
        "x = open(\"/content/abc2.txt\",mode='w')\n",
        "x.write('\\nAayush')\n",
        "x.close()"
      ],
      "execution_count": null,
      "outputs": []
    },
    {
      "cell_type": "code",
      "metadata": {
        "id": "EXRzIw3sYTja"
      },
      "source": [
        "x = open(\"/content/abc3.txt\",mode='w+')\n",
        "x.write('\\n Rishabh Singh')\n",
        "x.close()"
      ],
      "execution_count": null,
      "outputs": []
    },
    {
      "cell_type": "code",
      "metadata": {
        "colab": {
          "base_uri": "https://localhost:8080/",
          "height": 35
        },
        "id": "7Qi1fKYwYeds",
        "outputId": "367b0fbe-cfdc-4cf5-b201-b3d20cce5b69"
      },
      "source": [
        "x = open(\"/content/abc3.txt\",mode='r+')\n",
        "x.read()"
      ],
      "execution_count": null,
      "outputs": [
        {
          "output_type": "execute_result",
          "data": {
            "application/vnd.google.colaboratory.intrinsic+json": {
              "type": "string"
            },
            "text/plain": [
              "'\\n Rishabh Singh'"
            ]
          },
          "metadata": {},
          "execution_count": 24
        }
      ]
    },
    {
      "cell_type": "code",
      "metadata": {
        "id": "5OjQN_59Y161"
      },
      "source": [
        "import os\n",
        "os.remove(\"/content/abc3.txt\")"
      ],
      "execution_count": null,
      "outputs": []
    },
    {
      "cell_type": "markdown",
      "metadata": {
        "id": "YA02jDQ3Ytbt"
      },
      "source": [
        "## Exception Handling"
      ]
    },
    {
      "cell_type": "code",
      "metadata": {
        "colab": {
          "base_uri": "https://localhost:8080/",
          "height": 231
        },
        "id": "YpR6KXCBbCmR",
        "outputId": "d8d78d01-f6fc-4617-818d-f4ef652c6e30"
      },
      "source": [
        "x = eval(input())\n",
        "y = eval(input())\n",
        "print(x/y)"
      ],
      "execution_count": null,
      "outputs": [
        {
          "name": "stdout",
          "output_type": "stream",
          "text": [
            "1\n",
            "0\n"
          ]
        },
        {
          "output_type": "error",
          "ename": "ZeroDivisionError",
          "evalue": "ignored",
          "traceback": [
            "\u001b[0;31m---------------------------------------------------------------------------\u001b[0m",
            "\u001b[0;31mZeroDivisionError\u001b[0m                         Traceback (most recent call last)",
            "\u001b[0;32m<ipython-input-34-972cd0d95fa7>\u001b[0m in \u001b[0;36m<module>\u001b[0;34m()\u001b[0m\n\u001b[1;32m      1\u001b[0m \u001b[0mx\u001b[0m \u001b[0;34m=\u001b[0m \u001b[0meval\u001b[0m\u001b[0;34m(\u001b[0m\u001b[0minput\u001b[0m\u001b[0;34m(\u001b[0m\u001b[0;34m)\u001b[0m\u001b[0;34m)\u001b[0m\u001b[0;34m\u001b[0m\u001b[0;34m\u001b[0m\u001b[0m\n\u001b[1;32m      2\u001b[0m \u001b[0my\u001b[0m \u001b[0;34m=\u001b[0m \u001b[0meval\u001b[0m\u001b[0;34m(\u001b[0m\u001b[0minput\u001b[0m\u001b[0;34m(\u001b[0m\u001b[0;34m)\u001b[0m\u001b[0;34m)\u001b[0m\u001b[0;34m\u001b[0m\u001b[0;34m\u001b[0m\u001b[0m\n\u001b[0;32m----> 3\u001b[0;31m \u001b[0mprint\u001b[0m\u001b[0;34m(\u001b[0m\u001b[0mx\u001b[0m\u001b[0;34m/\u001b[0m\u001b[0my\u001b[0m\u001b[0;34m)\u001b[0m\u001b[0;34m\u001b[0m\u001b[0;34m\u001b[0m\u001b[0m\n\u001b[0m",
            "\u001b[0;31mZeroDivisionError\u001b[0m: division by zero"
          ]
        }
      ]
    },
    {
      "cell_type": "code",
      "metadata": {
        "colab": {
          "base_uri": "https://localhost:8080/"
        },
        "id": "gZngff9SYqIe",
        "outputId": "ede6c882-8b32-4e09-f22d-cf5e2ca0c9f4"
      },
      "source": [
        "try:\n",
        "  x = eval(input())\n",
        "  y = eval(input())\n",
        "  print(x/y)\n",
        "except :\n",
        "  pass"
      ],
      "execution_count": null,
      "outputs": [
        {
          "name": "stdout",
          "output_type": "stream",
          "text": [
            "1\n",
            "0\n"
          ]
        }
      ]
    },
    {
      "cell_type": "code",
      "metadata": {
        "colab": {
          "base_uri": "https://localhost:8080/"
        },
        "id": "UMJbK9QCaOvL",
        "outputId": "ef567d6c-4b08-428c-98fb-2020facc82fa"
      },
      "source": [
        "try:\n",
        "  x = eval(input())\n",
        "  y = eval(input())\n",
        "  print(x/y)\n",
        "except :\n",
        "  print('please input second value that is not equal to zero')"
      ],
      "execution_count": null,
      "outputs": [
        {
          "output_type": "stream",
          "name": "stdout",
          "text": [
            "a\n",
            "please input second value that is not equal to zero\n"
          ]
        }
      ]
    },
    {
      "cell_type": "code",
      "metadata": {
        "colab": {
          "base_uri": "https://localhost:8080/"
        },
        "id": "WZXNc-Sgarig",
        "outputId": "2bce8c1a-ee8c-4333-d893-444f0f45c99e"
      },
      "source": [
        "try:\n",
        "  x = eval(input())\n",
        "  y = eval(input())\n",
        "  print(x/y)\n",
        "except (ZeroDivisionError):\n",
        "  print('please input second value that is not equal to zero')\n",
        "except (NameError):\n",
        "  print(\"there is some issue with your inputs\")"
      ],
      "execution_count": null,
      "outputs": [
        {
          "output_type": "stream",
          "name": "stdout",
          "text": [
            "a\n",
            "there is some issue with your inputs\n"
          ]
        }
      ]
    },
    {
      "cell_type": "code",
      "metadata": {
        "colab": {
          "base_uri": "https://localhost:8080/"
        },
        "id": "itDkw3YPbpVs",
        "outputId": "2d51c4c8-1670-470c-e3a2-3a1173a7173b"
      },
      "source": [
        "try:\n",
        "  x = eval(input())\n",
        "  y = eval(input())\n",
        "  print(x/y)\n",
        "except (ZeroDivisionError):\n",
        "  print('please input second value that is not equal to zero')\n",
        "finally:\n",
        "  print(f'x as {x} y as {y}')  \n",
        "  print(\"Your input is not correct so we changed it on default\")"
      ],
      "execution_count": null,
      "outputs": [
        {
          "output_type": "stream",
          "name": "stdout",
          "text": [
            "1\n",
            "5\n",
            "0.2\n",
            "x as 1 y as 5\n",
            "Your input is not correct so we changed it on default\n"
          ]
        }
      ]
    },
    {
      "cell_type": "markdown",
      "metadata": {
        "id": "T2NHycBueOxC"
      },
      "source": [
        "user define exception"
      ]
    },
    {
      "cell_type": "code",
      "metadata": {
        "colab": {
          "base_uri": "https://localhost:8080/",
          "height": 418
        },
        "id": "DN7r7ZXPdaZy",
        "outputId": "db8b173d-06f2-402e-f63c-9b026f33be73"
      },
      "source": [
        "try:\n",
        "  x = eval(input())\n",
        "  y = eval(input())\n",
        "  print(x/y)\n",
        "except (ZeroDivisionError):\n",
        "  print('please input second value that is not equal to zero')\n",
        "except (NameError):\n",
        "  raise Exception(\"you are not putting correct type of data\")"
      ],
      "execution_count": null,
      "outputs": [
        {
          "name": "stdout",
          "output_type": "stream",
          "text": [
            "a\n"
          ]
        },
        {
          "output_type": "error",
          "ename": "NameError",
          "evalue": "ignored",
          "traceback": [
            "\u001b[0;31m---------------------------------------------------------------------------\u001b[0m",
            "\u001b[0;31mNameError\u001b[0m                                 Traceback (most recent call last)",
            "\u001b[0;32m<ipython-input-43-f56adb06d25c>\u001b[0m in \u001b[0;36m<module>\u001b[0;34m()\u001b[0m\n\u001b[1;32m      1\u001b[0m \u001b[0;32mtry\u001b[0m\u001b[0;34m:\u001b[0m\u001b[0;34m\u001b[0m\u001b[0;34m\u001b[0m\u001b[0m\n\u001b[0;32m----> 2\u001b[0;31m   \u001b[0mx\u001b[0m \u001b[0;34m=\u001b[0m \u001b[0meval\u001b[0m\u001b[0;34m(\u001b[0m\u001b[0minput\u001b[0m\u001b[0;34m(\u001b[0m\u001b[0;34m)\u001b[0m\u001b[0;34m)\u001b[0m\u001b[0;34m\u001b[0m\u001b[0;34m\u001b[0m\u001b[0m\n\u001b[0m\u001b[1;32m      3\u001b[0m   \u001b[0my\u001b[0m \u001b[0;34m=\u001b[0m \u001b[0meval\u001b[0m\u001b[0;34m(\u001b[0m\u001b[0minput\u001b[0m\u001b[0;34m(\u001b[0m\u001b[0;34m)\u001b[0m\u001b[0;34m)\u001b[0m\u001b[0;34m\u001b[0m\u001b[0;34m\u001b[0m\u001b[0m\n",
            "\u001b[0;32m<string>\u001b[0m in \u001b[0;36m<module>\u001b[0;34m()\u001b[0m\n",
            "\u001b[0;31mNameError\u001b[0m: name 'a' is not defined",
            "\nDuring handling of the above exception, another exception occurred:\n",
            "\u001b[0;31mNameError\u001b[0m                                 Traceback (most recent call last)",
            "\u001b[0;32m<ipython-input-43-f56adb06d25c>\u001b[0m in \u001b[0;36m<module>\u001b[0;34m()\u001b[0m\n\u001b[1;32m      6\u001b[0m   \u001b[0mprint\u001b[0m\u001b[0;34m(\u001b[0m\u001b[0;34m'please input second value that is not equal to zero'\u001b[0m\u001b[0;34m)\u001b[0m\u001b[0;34m\u001b[0m\u001b[0;34m\u001b[0m\u001b[0m\n\u001b[1;32m      7\u001b[0m \u001b[0;32mexcept\u001b[0m \u001b[0;34m(\u001b[0m\u001b[0mNameError\u001b[0m\u001b[0;34m)\u001b[0m\u001b[0;34m:\u001b[0m\u001b[0;34m\u001b[0m\u001b[0;34m\u001b[0m\u001b[0m\n\u001b[0;32m----> 8\u001b[0;31m   \u001b[0;32mraise\u001b[0m \u001b[0mNameError\u001b[0m\u001b[0;34m(\u001b[0m\u001b[0;34m\"you are not putting correct type of data\"\u001b[0m\u001b[0;34m)\u001b[0m\u001b[0;34m\u001b[0m\u001b[0;34m\u001b[0m\u001b[0m\n\u001b[0m",
            "\u001b[0;31mNameError\u001b[0m: you are not putting correct type of data"
          ]
        }
      ]
    },
    {
      "cell_type": "markdown",
      "metadata": {
        "id": "l2eTgx7gzluq"
      },
      "source": [
        "09-11-2021"
      ]
    },
    {
      "cell_type": "markdown",
      "metadata": {
        "id": "z8Lsqv0fzora"
      },
      "source": [
        "**Question@1**  \n",
        "\n",
        "\n",
        "Define a function which can find lucky number from a list \n",
        "Lucky number means in a list occurance of that number should be equal to the number and if there are more then one number having same property then choose the max number.\n",
        "\n",
        "\n",
        "\n",
        "\n",
        " \n",
        "\n",
        "\n",
        "\n",
        "**Example**\n",
        "\n",
        "Example 1:-\n",
        "\n",
        "\n",
        "*  \n",
        "\n",
        "\n",
        "\n",
        "List1 = [1,2,2,3,3,4,4,4]\n",
        "\n",
        "\n",
        "Output:- 2.\n",
        "\n",
        "\n",
        "Example 2:- \n",
        "\n",
        "\n",
        "\n",
        "List2 = [ 2,2,3,3,1,3,2,4,4,4]\n",
        "\n",
        "\n",
        "Output :- 3\n",
        "\n",
        "**Explanation: of Example 1**\n",
        "\n",
        "- number 1 and 2 are having same property but 2 is greater then results is 2\n",
        "\n",
        "**Function Description**\n",
        "\n",
        "\n",
        "Complete the lucky function provided in the editor .This  function takes the following 1 parameter and return single digit number.\n",
        "\n",
        "\n",
        "\n",
        "•\tList_a: Represents a list.\n",
        "\n",
        "\n",
        "\n",
        "**Input format** \n",
        "\n",
        "\n",
        "**Note**This is the input format that you must use to provied coustom input. \n",
        "\n",
        "\n",
        "•\tThe first line has an list, list_a denoting the number of test cases.\n",
        "\n",
        "\n",
        "\n",
        "\n",
        "\n",
        "\n",
        "**Output format**\n",
        "\n",
        "\n",
        "•\tPrint lucky each corresponding to the answer to each query.  \n",
        "\n",
        "\n",
        "\n"
      ]
    },
    {
      "cell_type": "code",
      "metadata": {
        "id": "mmBWp885zkME"
      },
      "source": [
        "def lucky(list_a):\n",
        "  # write your code here \n",
        "  #1st method\n",
        "  x = []\n",
        "  for i in set(list_a):\n",
        "    if i == list_a.count(i):\n",
        "      x.append(i)\n",
        "\n",
        "  #2nd method \n",
        "  x = [i for i in set(list_a) if i == list_a.count(i)]\n",
        "  N = max(x)\n",
        "  return N\n",
        "\n",
        "if __name__ = '__main__':\n",
        "  list_a = [int(ele) for ele in input(\"Enter the list items separate by space:-\").split(\",\")]\n",
        "  print(lucky(list_a))\n"
      ],
      "execution_count": null,
      "outputs": []
    },
    {
      "cell_type": "markdown",
      "metadata": {
        "id": "EwUMIBnZ6-xi"
      },
      "source": [
        "**Question@2**  \n",
        "\n",
        "\n",
        "Define a function which can find palindrome number from a real number, means number that remains the same when its digits are reversed. In other words, it has reflectional symmetry across a vertical axis.\n",
        "**1st** revers the number check num is palindrome or not. If **yes** then print that number and how many time you have reversed it. If **not** then add that number to previous one and reverse it again and check for palindrome. Do it until the num will be palindrome. \n",
        "\n",
        "\n",
        "\n",
        "\n",
        "\n",
        "**Example**\n",
        "\n",
        "Example 1:-\n",
        "\n",
        "\n",
        "num = 123\n",
        "      \n",
        "\n",
        "*   \n",
        "\n",
        "\n",
        "     123 + 321 = 444 \n",
        "\n",
        "     444 is palindrome number\n",
        "    \n",
        "    \n",
        "\n",
        "Output:- 444 ,1\n",
        "\n",
        "\n",
        "Example 2:- \n",
        "\n",
        "\n",
        "num = 174\n",
        "\n",
        "*  \n",
        "\n",
        "\n",
        "      174 + 471 = 645\n",
        "      645 + 546 = 1191\n",
        "      1191 + 1911 = 3102\n",
        "      3102 + 2013 = 5115\n",
        "      5115 is palindrome number\n",
        "\n",
        "\n",
        "Output :- 5115, 4\n",
        "\n",
        "**Explanation: of Example 1**\n",
        "\n",
        "- number 1 and 2 are having same property but 2 is greater then results is 2\n",
        "\n",
        "**Function Description**\n",
        "\n",
        "\n",
        "Complete the palindrome function provided in the editor .This  function takes the following 1 parameter and return two number.\n",
        "\n",
        "\n",
        "\n",
        "•   num: Represents a int.\n",
        "\n",
        "\n",
        "\n",
        "**Input format** \n",
        "\n",
        "\n",
        "**Note**This is the input format that you must use to provied coustom input. \n",
        "\n",
        "\n",
        "•   The first line has an int, num denoting the number of test cases.\n",
        "\n",
        "\n",
        "\n",
        "\n",
        "\n",
        "\n",
        "**Output format**\n",
        "\n",
        "\n",
        "•   Print palindrome number and step's num each corresponding to the answer to each query.\n",
        "\n",
        "\n",
        "**constraints**\n",
        "\n",
        "step can be maximum 30 times if that after 30 steps that number will not convert to palindrome then retun **\"Palindrome is not possible\"**"
      ]
    },
    {
      "cell_type": "code",
      "metadata": {
        "colab": {
          "base_uri": "https://localhost:8080/"
        },
        "id": "uKSM-gmO62xx",
        "outputId": "cbea4a59-a202-479f-9e00-651ae5fa3ce3"
      },
      "source": [
        "def palindrome(num):\n",
        "  val = num\n",
        "  count=0\n",
        "  reversed_num = num\n",
        "  while True:\n",
        "    if val == int(str(val)[::-1]):\n",
        "      return count ,val\n",
        "    elif count ==30:\n",
        "      return  \"Palindrome is not possible\"\n",
        "    else:\n",
        "      reversed_num += int(str(val)[::-1])\n",
        "      val = reversed_num\n",
        "      count += 1\n",
        "\n",
        "if __name__ =='__main__':\n",
        "  num = int(input(\"Enter a number :- \"))\n",
        "  print(palindrome(num))\n",
        "\n",
        "  \n",
        "\n"
      ],
      "execution_count": null,
      "outputs": [
        {
          "output_type": "execute_result",
          "data": {
            "text/plain": [
              "['__add__',\n",
              " '__class__',\n",
              " '__contains__',\n",
              " '__delattr__',\n",
              " '__delitem__',\n",
              " '__dir__',\n",
              " '__doc__',\n",
              " '__eq__',\n",
              " '__format__',\n",
              " '__ge__',\n",
              " '__getattribute__',\n",
              " '__getitem__',\n",
              " '__gt__',\n",
              " '__hash__',\n",
              " '__iadd__',\n",
              " '__imul__',\n",
              " '__init__',\n",
              " '__init_subclass__',\n",
              " '__iter__',\n",
              " '__le__',\n",
              " '__len__',\n",
              " '__lt__',\n",
              " '__mul__',\n",
              " '__ne__',\n",
              " '__new__',\n",
              " '__reduce__',\n",
              " '__reduce_ex__',\n",
              " '__repr__',\n",
              " '__reversed__',\n",
              " '__rmul__',\n",
              " '__setattr__',\n",
              " '__setitem__',\n",
              " '__sizeof__',\n",
              " '__str__',\n",
              " '__subclasshook__',\n",
              " 'append',\n",
              " 'clear',\n",
              " 'copy',\n",
              " 'count',\n",
              " 'extend',\n",
              " 'index',\n",
              " 'insert',\n",
              " 'pop',\n",
              " 'remove',\n",
              " 'reverse',\n",
              " 'sort']"
            ]
          },
          "metadata": {},
          "execution_count": 1
        }
      ]
    },
    {
      "cell_type": "code",
      "metadata": {
        "colab": {
          "base_uri": "https://localhost:8080/"
        },
        "id": "mMbrB5BcEq5_",
        "outputId": "49e483c6-5188-4586-cf04-5e468abf4ce0"
      },
      "source": [
        "list_a = [1,2,3,4,5,6,7,8,9]\n",
        "\n",
        "[item**2 for item in list_a]\n",
        "\n",
        "a = []\n",
        "for ele in list_a:\n",
        "  if ele >5:\n",
        "    a.append(ele)\n",
        "#print(a)\n",
        "\n",
        "\n",
        "#grt>5\n",
        "#print([i for i in list_a if i>5])\n",
        "\n",
        "#even\n",
        "print([ele**2 for ele in list_a if ele%2==0])\n",
        "\n",
        "\n",
        "#odd \n",
        "#[ele for ele in list_a if ele%2!=0]\n",
        "\n",
        "\n",
        "#ele *4\n",
        "[ele*4 for ele in list_a]\n"
      ],
      "execution_count": null,
      "outputs": [
        {
          "output_type": "stream",
          "name": "stdout",
          "text": [
            "[4, 16, 36, 64]\n"
          ]
        },
        {
          "output_type": "execute_result",
          "data": {
            "text/plain": [
              "[4, 8, 12, 16, 20, 24, 28, 32, 36]"
            ]
          },
          "metadata": {},
          "execution_count": 23
        }
      ]
    },
    {
      "cell_type": "code",
      "metadata": {
        "colab": {
          "base_uri": "https://localhost:8080/"
        },
        "id": "NsUmUN87RDXD",
        "outputId": "1f5241e5-acb6-4acc-e17b-43a3460205e1"
      },
      "source": [
        "list_a = [1,2,3,4,5,6,7,8,9]\n",
        "[ele+1 for ele in list_a]\n",
        "\n",
        "print([i for i in list_a if i%3!=0])\n",
        "\n",
        "\n",
        "\n"
      ],
      "execution_count": null,
      "outputs": [
        {
          "output_type": "stream",
          "name": "stdout",
          "text": [
            "[1, 2, 4, 5, 7, 8]\n"
          ]
        }
      ]
    },
    {
      "cell_type": "markdown",
      "metadata": {
        "id": "PzbCCg_2lnKU"
      },
      "source": [
        "**10-11-2021**"
      ]
    },
    {
      "cell_type": "code",
      "metadata": {
        "colab": {
          "base_uri": "https://localhost:8080/"
        },
        "id": "1TmMlTt1ltIT",
        "outputId": "ad6af105-76a9-4116-eb76-89a80ec52689"
      },
      "source": [
        "def min_max(X):\n",
        "    for i in X:\n",
        "        return min(X),max(X)\n",
        "\n",
        "min_max([-9,87,8,95,62,0,4])"
      ],
      "execution_count": null,
      "outputs": [
        {
          "output_type": "execute_result",
          "data": {
            "text/plain": [
              "(-9, 95)"
            ]
          },
          "metadata": {},
          "execution_count": 2
        }
      ]
    },
    {
      "cell_type": "code",
      "metadata": {
        "colab": {
          "base_uri": "https://localhost:8080/"
        },
        "id": "kfLl3icbnIpC",
        "outputId": "716a965f-dae4-49fd-e20a-ea599cc55215"
      },
      "source": [
        "def even_sqr(x):\n",
        "  return[ele**2 for ele in x if ele%2==0]\n",
        "\n",
        "even_sqr([1,2,3,4,5,6,7,8,9])"
      ],
      "execution_count": null,
      "outputs": [
        {
          "output_type": "execute_result",
          "data": {
            "text/plain": [
              "[4, 16, 36, 64]"
            ]
          },
          "metadata": {},
          "execution_count": 3
        }
      ]
    },
    {
      "cell_type": "code",
      "metadata": {
        "colab": {
          "base_uri": "https://localhost:8080/"
        },
        "id": "RhGjIeIioI5M",
        "outputId": "f3901bca-aead-4984-d870-f3d3d6ea497f"
      },
      "source": [
        "def add(*args):\n",
        "  res = 0\n",
        "  for ele in args:\n",
        "    res = res+ele\n",
        "  return res \n",
        "\n",
        "add(1,2,3,4,5,6,7)\n"
      ],
      "execution_count": null,
      "outputs": [
        {
          "output_type": "execute_result",
          "data": {
            "text/plain": [
              "28"
            ]
          },
          "metadata": {},
          "execution_count": 6
        }
      ]
    },
    {
      "cell_type": "markdown",
      "metadata": {
        "id": "yC4dZxupsUv8"
      },
      "source": [
        "# 10-11-2021"
      ]
    },
    {
      "cell_type": "markdown",
      "metadata": {
        "id": "16Bg87truSxo"
      },
      "source": [
        "## oops"
      ]
    },
    {
      "cell_type": "code",
      "metadata": {
        "id": "UHdE6mUtzBrL"
      },
      "source": [
        "def cube(number):\n",
        "  x = number**3\n",
        "cube(number = 5)"
      ],
      "execution_count": null,
      "outputs": []
    },
    {
      "cell_type": "code",
      "metadata": {
        "id": "Fx8apXH82K0B"
      },
      "source": [
        "class Person:\n",
        "  pass"
      ],
      "execution_count": null,
      "outputs": []
    },
    {
      "cell_type": "code",
      "metadata": {
        "id": "XJFWk-oBsdq9"
      },
      "source": [
        "class Person:\n",
        "  \n",
        "  #instance variable \n",
        "  def __init__(self,name,age,salary,gender):\n",
        "    self.name = name\n",
        "    self.age = age\n",
        "    self.salary = salary\n",
        "    self.gender = gender\n",
        "\n",
        "  #instance methods\n",
        "  def details(self):\n",
        "    print(f'Name of person is {self.name} and salary of the person is {self.salary}')\n",
        "\n",
        "  def increment(self,percentage):\n",
        "    self.salary = self.salary + self.salary * percentage/100\n",
        "\n"
      ],
      "execution_count": null,
      "outputs": []
    },
    {
      "cell_type": "code",
      "metadata": {
        "colab": {
          "base_uri": "https://localhost:8080/"
        },
        "id": "9zx_BfMHz8Ur",
        "outputId": "3be7f62a-9ed4-4bda-fcd8-3f58f649950e"
      },
      "source": [
        "x1 = Person(name = \"Rishu\", age = 25,salary=45000,gender='Male')\n",
        "x1.details()"
      ],
      "execution_count": null,
      "outputs": [
        {
          "output_type": "stream",
          "name": "stdout",
          "text": [
            "Name of person is Rishu and salary of the person is 45000\n"
          ]
        }
      ]
    },
    {
      "cell_type": "code",
      "metadata": {
        "id": "VMKgotNB28gT"
      },
      "source": [
        "x1.increment(percentage=10)"
      ],
      "execution_count": null,
      "outputs": []
    },
    {
      "cell_type": "code",
      "metadata": {
        "colab": {
          "base_uri": "https://localhost:8080/"
        },
        "id": "eHqgqcv63JBR",
        "outputId": "9506d3c5-a6a0-4d1e-d550-3e922b87fc12"
      },
      "source": [
        "x1.salary  = 1000\n",
        "x1.details()"
      ],
      "execution_count": null,
      "outputs": [
        {
          "output_type": "stream",
          "name": "stdout",
          "text": [
            "Name of person is Rishu and salary of the person is 1000\n"
          ]
        }
      ]
    },
    {
      "cell_type": "markdown",
      "metadata": {
        "id": "4iCOw-Ux5mqU"
      },
      "source": [
        "Enc"
      ]
    },
    {
      "cell_type": "code",
      "metadata": {
        "id": "fPrjoLPz5mJg"
      },
      "source": [
        "class Person:\n",
        "  \n",
        "  #instance variable \n",
        "  def __init__(self,name,age,salary,gender):\n",
        "    self.name = name\n",
        "    self.age = age\n",
        "    self.__salary = salary  #private varible or encapsulated\n",
        "    self.gender = gender\n",
        "\n",
        "  #instance methods\n",
        "  def details(self):\n",
        "    print(f'Name of person is {self.name} and salary of the person is {self.__salary}')\n",
        "\n",
        "  def increment(self,percentage):\n",
        "    self.__salary = self.__salary + self.__salary * percentage/100\n",
        "\n"
      ],
      "execution_count": null,
      "outputs": []
    },
    {
      "cell_type": "code",
      "metadata": {
        "colab": {
          "base_uri": "https://localhost:8080/"
        },
        "id": "BQlw2pln5yzp",
        "outputId": "6d3ff36b-58b1-4b30-af21-8ae02a74613b"
      },
      "source": [
        "x1 = Person(name = \"Rishu\", age = 25,salary=45000,gender='Male')\n",
        "x1.details()\n",
        "x1.__salary  = 1000\n",
        "x1.details()"
      ],
      "execution_count": null,
      "outputs": [
        {
          "output_type": "stream",
          "name": "stdout",
          "text": [
            "Name of person is Rishu and salary of the person is 45000\n",
            "Name of person is Rishu and salary of the person is 45000\n"
          ]
        }
      ]
    },
    {
      "cell_type": "markdown",
      "metadata": {
        "id": "B4i2Fov_Szyu"
      },
      "source": [
        "#11-11-2021"
      ]
    },
    {
      "cell_type": "markdown",
      "metadata": {
        "id": "rHTVlLiDVRLJ"
      },
      "source": [
        "## Inheritance"
      ]
    },
    {
      "cell_type": "code",
      "metadata": {
        "id": "UsH8PpgcS3jq"
      },
      "source": [
        "class Person:  \n",
        "  #instance variable \n",
        "  def __init__(self,name,age,salary,gender):\n",
        "    self.name = name\n",
        "    self.age = age\n",
        "    self.salary = salary  #private varible or encapsulated\n",
        "    self.gender = gender\n",
        "\n",
        "  #instance methods\n",
        "  def details(self):\n",
        "    print(f'Name of person is {self.name} and salary of the person is {self.salary}')\n",
        "\n",
        "  def increment(self,percentage):\n",
        "    self.salary = self.salary + self.salary * percentage/100"
      ],
      "execution_count": null,
      "outputs": []
    },
    {
      "cell_type": "code",
      "metadata": {
        "id": "ZBUA0KqEVYp6"
      },
      "source": [
        "class Employee(Person):\n",
        "  def __init__(self,name,age,salary,gender,empid,Designation):\n",
        "    super().__init__(name,age,salary,gender)\n",
        "    self.empid = empid\n",
        "    self.Designation = Designation\n",
        "\n",
        "  def det(self):\n",
        "    print(f'emp :- {self.empid}\\nage :- {self.age}')\n",
        "\n",
        "  def details(self):\n",
        "    print(f'''Name of person is {self.name} and salary of the person is {self.salary}\n",
        "          \\nEmployeeid is {self.empid}''')\n",
        "  "
      ],
      "execution_count": null,
      "outputs": []
    },
    {
      "cell_type": "code",
      "metadata": {
        "colab": {
          "base_uri": "https://localhost:8080/"
        },
        "id": "rfzaJestXNDE",
        "outputId": "20ff4638-b6fd-48cf-af2f-0659d15945ac"
      },
      "source": [
        "x1 = Employee(name = 'Rishu',age=25,salary = 45000 , gender='M',empid=1,Designation='Trainer')\n",
        "\n",
        "x1.det()"
      ],
      "execution_count": null,
      "outputs": [
        {
          "output_type": "stream",
          "name": "stdout",
          "text": [
            "emp :- 1\n",
            "age :- 25\n"
          ]
        }
      ]
    },
    {
      "cell_type": "code",
      "metadata": {
        "colab": {
          "base_uri": "https://localhost:8080/"
        },
        "id": "pu0XYkQcX0V0",
        "outputId": "2ac0f98a-b166-43e2-a12c-ee6d941a06a4"
      },
      "source": [
        "x1.details()"
      ],
      "execution_count": null,
      "outputs": [
        {
          "output_type": "stream",
          "name": "stdout",
          "text": [
            "Name of person is Rishu and salary of the person is 45000\n",
            "          \n",
            "Employeeid is 1\n"
          ]
        }
      ]
    },
    {
      "cell_type": "markdown",
      "metadata": {
        "id": "_HTV8M7daj9_"
      },
      "source": [
        "##Polymorphism"
      ]
    },
    {
      "cell_type": "code",
      "metadata": {
        "id": "cZFY585lajrC"
      },
      "source": [
        "class A(Person):\n",
        "  def __init__(self,name,age,salary,gender,game):\n",
        "    super().__init__(name,age,salary,gender)\n",
        "    self.game = game\n",
        "\n",
        "  def details(self):\n",
        "    print(f'Game play :- {self.game}\\nAge :- {self.age} \\n Salary {self.salary}')"
      ],
      "execution_count": null,
      "outputs": []
    },
    {
      "cell_type": "code",
      "metadata": {
        "colab": {
          "base_uri": "https://localhost:8080/"
        },
        "id": "xm0dijTHb7Bg",
        "outputId": "0e5ad60d-f367-47bd-edec-fa4a7e99db6a"
      },
      "source": [
        "x2 = A('Rishu',25,45000,'M','MineCraft')\n",
        "\n",
        "x2.details()\n",
        "x2.increment(15)\n",
        "x2.details()"
      ],
      "execution_count": null,
      "outputs": [
        {
          "output_type": "stream",
          "name": "stdout",
          "text": [
            "Game play :- MineCraft\n",
            "Age :- 25 \n",
            " Salary 45000\n",
            "Game play :- MineCraft\n",
            "Age :- 25 \n",
            " Salary 51750.0\n"
          ]
        }
      ]
    },
    {
      "cell_type": "code",
      "metadata": {
        "colab": {
          "base_uri": "https://localhost:8080/"
        },
        "id": "iLG9Ox2vcPMI",
        "outputId": "4346bc56-d2dc-42b6-f16e-e23ebe1940b1"
      },
      "source": [
        "x1.details()\n",
        "x1.increment(25)\n",
        "x1.details()"
      ],
      "execution_count": null,
      "outputs": [
        {
          "output_type": "stream",
          "name": "stdout",
          "text": [
            "Name of person is Rishu and salary of the person is 45000\n",
            "          \n",
            "Employeeid is 1\n",
            "Name of person is Rishu and salary of the person is 56250.0\n",
            "          \n",
            "Employeeid is 1\n"
          ]
        }
      ]
    },
    {
      "cell_type": "code",
      "metadata": {
        "id": "msMKh955ePWf"
      },
      "source": [
        "class Employee:  \n",
        "  #class variable \n",
        "  Increments = 12\n",
        "  Emp_id = 0\n",
        "  #instance variable \n",
        "  def __init__(self,name,age,salary,gender):\n",
        "    self.name = name\n",
        "    self.age = age\n",
        "    self.salary = salary  #private varible or encapsulated\n",
        "    self.gender = gender\n",
        "    Employee.Emp_id += 1 \n",
        "\n",
        "  #instance methods\n",
        "  def details(self):\n",
        "    print(f'Name of person is {self.name} and salary of the person is {self.salary}')\n",
        "\n",
        "  def increment(self,percentage):\n",
        "    self.salary = self.salary + self.salary * percentage/100\n",
        "\n",
        "  def year_increment(self):\n",
        "    self.salary = self.salary + self.salary * Employee.Increments/100\n",
        "\n",
        "  @classmethod\n",
        "  def update_increment(cls,inc_value):\n",
        "    cls.Increments = cls.Increments + inc_value \n",
        "\n",
        "  @staticmethod\n",
        "  def add(num1,num2):\n",
        "    print(num1+num2)\n"
      ],
      "execution_count": null,
      "outputs": []
    },
    {
      "cell_type": "code",
      "metadata": {
        "id": "PNAYLbGifHDV"
      },
      "source": [
        "help(Employee)"
      ],
      "execution_count": null,
      "outputs": []
    },
    {
      "cell_type": "code",
      "metadata": {
        "colab": {
          "base_uri": "https://localhost:8080/"
        },
        "id": "u3gjT-3_fbkr",
        "outputId": "9e9553de-eb1e-4d60-c118-687f871b6661"
      },
      "source": [
        "p1 = Employee(name = 'Rishu',age=25,salary = 45000 , gender='M')\n",
        "p1.details()"
      ],
      "execution_count": null,
      "outputs": [
        {
          "output_type": "stream",
          "name": "stdout",
          "text": [
            "Name of person is Rishu and salary of the person is 45000\n"
          ]
        }
      ]
    },
    {
      "cell_type": "code",
      "metadata": {
        "colab": {
          "base_uri": "https://localhost:8080/"
        },
        "id": "GAKZaKNZjbCq",
        "outputId": "668b946b-98d5-412c-d4d4-457445287e48"
      },
      "source": [
        "p1.add(5,10)"
      ],
      "execution_count": null,
      "outputs": [
        {
          "output_type": "stream",
          "name": "stdout",
          "text": [
            "15\n"
          ]
        }
      ]
    },
    {
      "cell_type": "code",
      "metadata": {
        "colab": {
          "base_uri": "https://localhost:8080/"
        },
        "id": "76h9ElargixW",
        "outputId": "1e0fda48-111d-4477-9561-88f313f6adc4"
      },
      "source": [
        "p1.details()\n",
        "p1.year_increment()\n",
        "p1.details()"
      ],
      "execution_count": null,
      "outputs": [
        {
          "output_type": "stream",
          "name": "stdout",
          "text": [
            "Name of person is Rishu and salary of the person is 45000\n",
            "Name of person is Rishu and salary of the person is 50400.0\n"
          ]
        }
      ]
    },
    {
      "cell_type": "code",
      "metadata": {
        "id": "E61pnNukiWC6"
      },
      "source": [
        "p1.update_increment(20)"
      ],
      "execution_count": null,
      "outputs": []
    },
    {
      "cell_type": "code",
      "metadata": {
        "colab": {
          "base_uri": "https://localhost:8080/"
        },
        "id": "5zZIM6rlifdx",
        "outputId": "48039c4a-ca52-4b3b-ca84-40dd990ad05c"
      },
      "source": [
        "p1.details()\n",
        "p1.year_increment()\n",
        "p1.details()"
      ],
      "execution_count": null,
      "outputs": [
        {
          "output_type": "stream",
          "name": "stdout",
          "text": [
            "Name of person is Rishu and salary of the person is 50400.0\n",
            "Name of person is Rishu and salary of the person is 66528.0\n"
          ]
        }
      ]
    },
    {
      "cell_type": "code",
      "metadata": {
        "colab": {
          "base_uri": "https://localhost:8080/"
        },
        "id": "ATMbc3w1fs-a",
        "outputId": "88cb5620-6581-4317-fa4b-ad77f331918b"
      },
      "source": [
        "p2 = Employee(name = 'shubh', age=25,salary = 55000 , gender='M')\n",
        "p2.details()"
      ],
      "execution_count": null,
      "outputs": [
        {
          "output_type": "stream",
          "name": "stdout",
          "text": [
            "Name of person is shubh and salary of the person is 55000\n"
          ]
        }
      ]
    },
    {
      "cell_type": "markdown",
      "metadata": {
        "id": "OwVgsGp_cGPY"
      },
      "source": [
        "# 12-11-2021"
      ]
    },
    {
      "cell_type": "markdown",
      "metadata": {
        "id": "tL3aRIXMrhgY"
      },
      "source": [
        "\n",
        "\n",
        "\n",
        "# MySQL DB connection with Python\n"
      ]
    },
    {
      "cell_type": "markdown",
      "metadata": {
        "id": "Pb0iUtbvrhga"
      },
      "source": [
        "### Connecting to MySQL"
      ]
    },
    {
      "cell_type": "code",
      "metadata": {
        "id": "GqLYgWJTY_gF"
      },
      "source": [
        "!pip install mysql.connector"
      ],
      "execution_count": null,
      "outputs": []
    },
    {
      "cell_type": "code",
      "metadata": {
        "id": "ZttaTVzYrhgb"
      },
      "source": [
        "# importing package\n",
        "\n",
        "# pip install mysql.connector\n",
        "\n",
        "import mysql.connector as sql\n",
        "\n",
        "#connecting to mysql database\n",
        "mydb = sql.connect(user='root', password='Rish@bh01',host='127.0.0.1',database='health')\n",
        "print(mydb)\n"
      ],
      "execution_count": null,
      "outputs": []
    },
    {
      "cell_type": "code",
      "metadata": {
        "id": "sCd-Cq_Crhgd"
      },
      "source": [
        "mycursor = mydb.cursor()"
      ],
      "execution_count": null,
      "outputs": []
    },
    {
      "cell_type": "code",
      "metadata": {
        "id": "-2ek50Z0rhgf"
      },
      "source": [
        "mycursor.execute(\"show databases\")"
      ],
      "execution_count": null,
      "outputs": []
    },
    {
      "cell_type": "code",
      "metadata": {
        "id": "H1hSqJWQrhgg",
        "outputId": "c50dee8d-c5a1-4bc8-9e3b-20514bb93cf9"
      },
      "source": [
        "for x in mycursor:\n",
        "    print(x)"
      ],
      "execution_count": null,
      "outputs": [
        {
          "name": "stdout",
          "output_type": "stream",
          "text": [
            "('emp',)\n",
            "('employee',)\n",
            "('information_schema',)\n",
            "('market',)\n",
            "('mydata',)\n",
            "('mysql',)\n",
            "('performance_schema',)\n",
            "('sys',)\n",
            "('test',)\n"
          ]
        }
      ]
    },
    {
      "cell_type": "code",
      "metadata": {
        "id": "sdNP-S4orhgi",
        "outputId": "9f22213c-3859-4be2-d09a-a9bf9af6363f"
      },
      "source": [
        "mycursor"
      ],
      "execution_count": null,
      "outputs": [
        {
          "data": {
            "text/plain": [
              "<mysql.connector.cursor_cext.CMySQLCursor at 0x227545bef08>"
            ]
          },
          "execution_count": 18,
          "metadata": {},
          "output_type": "execute_result"
        }
      ]
    },
    {
      "cell_type": "markdown",
      "metadata": {
        "id": "bmdxrmJHrhgk"
      },
      "source": [
        "### creating database schema"
      ]
    },
    {
      "cell_type": "code",
      "metadata": {
        "id": "ycKHSTwJrhgm"
      },
      "source": [
        "#Create Database\n",
        "mycursor.execute(\"CREATE DATABASE EMP\")\n"
      ],
      "execution_count": null,
      "outputs": []
    },
    {
      "cell_type": "markdown",
      "metadata": {
        "id": "NebCGRVerhgn"
      },
      "source": [
        "### connectin to the database schema created"
      ]
    },
    {
      "cell_type": "code",
      "metadata": {
        "id": "6AJAtosIrhgp",
        "outputId": "b2761880-9733-4e6d-e525-f8bcc2e4dbad"
      },
      "source": [
        "# Connecting to Database created\n",
        "mydb = sql.connect(\n",
        "  host=\"localhost\",\n",
        "  user=\"cust1\",\n",
        "  passwd=\"cust1@123\",\n",
        "  database = 'EMP',\n",
        "  auth_plugin='mysql_native_password'\n",
        ")\n",
        "print(mydb)\n",
        "\n",
        "mycursor = mydb.cursor()\n"
      ],
      "execution_count": null,
      "outputs": [
        {
          "name": "stdout",
          "output_type": "stream",
          "text": [
            "<mysql.connector.connection_cext.CMySQLConnection object at 0x00000227545D3B08>\n"
          ]
        }
      ]
    },
    {
      "cell_type": "code",
      "metadata": {
        "id": "gaCbzkdMrhgr",
        "outputId": "5ba17017-de2c-4af5-d49b-df38bedf63d9"
      },
      "source": [
        "mycursor.execute(\"show tables\")\n",
        "\n",
        "for x in mycursor:\n",
        "    print(x)"
      ],
      "execution_count": null,
      "outputs": [
        {
          "name": "stdout",
          "output_type": "stream",
          "text": [
            "('finance',)\n",
            "('hr',)\n"
          ]
        }
      ]
    },
    {
      "cell_type": "markdown",
      "metadata": {
        "id": "8aaI4Lcnrhgt"
      },
      "source": [
        "### creating table"
      ]
    },
    {
      "cell_type": "code",
      "metadata": {
        "id": "fWyYKF6Orhgu"
      },
      "source": [
        ""
      ],
      "execution_count": null,
      "outputs": []
    },
    {
      "cell_type": "code",
      "metadata": {
        "id": "V567x7eMrhgv"
      },
      "source": [
        "#creating table\n",
        "mycursor.execute(\"CREATE TABLE HR \\\n",
        "                 (Emp_no int primary key, Emp_name varchar(20), \\\n",
        "                 Emp_desig varchar(20), Emp_contact int)\")\n"
      ],
      "execution_count": null,
      "outputs": []
    },
    {
      "cell_type": "markdown",
      "metadata": {
        "id": "ITdY1YExrhgw"
      },
      "source": [
        "### Inserting data into the table"
      ]
    },
    {
      "cell_type": "code",
      "metadata": {
        "id": "lj9B3Ixqrhgy"
      },
      "source": [
        "#Inseting values into Table\n",
        "SQL_Insert = \"INSERT INTO HR(Emp_no, Emp_name, Emp_desig, Emp_contact) \\\n",
        "                VALUES (%s,%s,%s,%s)\"\n",
        "                \n",
        "SQL_Insert_values = [ ('1','abc','hr','123456'),\n",
        "                      ('2','abc1','hr','12345678'),\n",
        "                      ('3', 'abc2','hr','1234567')\n",
        "                    ]\n",
        "                \n",
        "mycursor.executemany(SQL_Insert, SQL_Insert_values)\n",
        "\n",
        "mydb.commit() #commit() is used to save changes to database\n"
      ],
      "execution_count": null,
      "outputs": []
    },
    {
      "cell_type": "code",
      "metadata": {
        "id": "79mBN2pZrhgz",
        "outputId": "8ea83118-296c-4818-f933-a895a5dd81f1"
      },
      "source": [
        "print(mycursor.rowcount,\"rows were inserted\")\n"
      ],
      "execution_count": null,
      "outputs": [
        {
          "name": "stdout",
          "output_type": "stream",
          "text": [
            "3 rows were inserted\n"
          ]
        }
      ]
    },
    {
      "cell_type": "markdown",
      "metadata": {
        "id": "l6eWEu9hrhg1"
      },
      "source": [
        "### Creating another table"
      ]
    },
    {
      "cell_type": "code",
      "metadata": {
        "id": "rLJsy45Lrhg2"
      },
      "source": [
        "#Creating another table Finance\n",
        "mycursor.execute(\"CREATE TABLE FINANCE \\\n",
        "                 (Tax_No int primary key AUTO_INCREMENT, \\\n",
        "                 Emp_no int unique,\\\n",
        "                 Salary float)\")\n"
      ],
      "execution_count": null,
      "outputs": []
    },
    {
      "cell_type": "markdown",
      "metadata": {
        "id": "PSJLYktTrhg4"
      },
      "source": [
        "### Inserting data "
      ]
    },
    {
      "cell_type": "code",
      "metadata": {
        "id": "eZFOpI5Mrhg6",
        "outputId": "32a8c7a7-e948-4cde-b51b-7f11c2a19403"
      },
      "source": [
        "#Inserting values into Finance Table\n",
        "SQL_Insert_Finance = \"INSERT INTO FINANCE(Emp_no,Salary) VALUES (%s,%s)\" \n",
        "\n",
        "SQL_Insert_Values_Finance = [(1,10.5),\n",
        "                             (2,11.5),\n",
        "                             (3,12.5)\n",
        "                            ]\n",
        "\n",
        "mycursor.executemany(SQL_Insert_Finance,SQL_Insert_Values_Finance)\n",
        "\n",
        "mydb.commit() #commit() is used to save changes\n",
        "\n",
        "print(mycursor.rowcount,\"rows were updated\")\n"
      ],
      "execution_count": null,
      "outputs": [
        {
          "name": "stdout",
          "output_type": "stream",
          "text": [
            "3 rows were updated\n"
          ]
        }
      ]
    },
    {
      "cell_type": "markdown",
      "metadata": {
        "id": "HM9EncrVrhg8"
      },
      "source": [
        "### Selecting data"
      ]
    },
    {
      "cell_type": "code",
      "metadata": {
        "id": "U4_Wxeasrhg-",
        "outputId": "4f718bbb-5b1e-45e7-c5c3-2de95888d528"
      },
      "source": [
        "# Condition -- where cluase or where conditions\n",
        "\n",
        "SQL_where = \"SELECT * from HR WHERE Emp_no > 1\"\n",
        "\n",
        "mycursor.execute(SQL_where)\n",
        "\n",
        "SQL_where_results = mycursor.fetchall()\n",
        "\n",
        "for x in SQL_where_results:\n",
        "    print(x)\n"
      ],
      "execution_count": null,
      "outputs": [
        {
          "name": "stdout",
          "output_type": "stream",
          "text": [
            "(2, 'abc1', 'hr', 12345678)\n",
            "(3, 'abc2', 'hr', 1234567)\n"
          ]
        }
      ]
    },
    {
      "cell_type": "code",
      "metadata": {
        "id": "I4ZcWWxVrhhA",
        "outputId": "aae85cec-44fb-4b9e-fe3b-c3e714acf0dc"
      },
      "source": [
        "# Where Condition\n",
        "\n",
        "SQL_where_finance = \"SELECT * from FINANCE WHERE Salary >= 11.5\"\n",
        "\n",
        "mycursor.execute(SQL_where_finance)\n",
        "\n",
        "SQL_where_results_finance = mycursor.fetchall()\n",
        "\n",
        "for x in SQL_where_results_finance:\n",
        "    print(x)"
      ],
      "execution_count": null,
      "outputs": [
        {
          "name": "stdout",
          "output_type": "stream",
          "text": [
            "(2, 2, 11.5)\n",
            "(3, 3, 12.5)\n"
          ]
        }
      ]
    },
    {
      "cell_type": "code",
      "metadata": {
        "id": "BJo29MMHrhhD",
        "outputId": "c8c830bd-0eb5-40c7-dcae-3ad0b024a96c"
      },
      "source": [
        "# INNER Join Functions\n",
        "\n",
        "SQL_join = \"SELECT A.Emp_name, A.Emp_desig, B.Salary \\\n",
        "            from HR as A \\\n",
        "            Inner join FINANCE as B\\\n",
        "            on A.Emp_no = B.Tax_no\"\n",
        "            \n",
        "mycursor.execute(SQL_join)\n",
        "\n",
        "SQL_results = mycursor.fetchall()\n",
        "\n",
        "for x in SQL_results:\n",
        "    print(x)\n"
      ],
      "execution_count": null,
      "outputs": [
        {
          "name": "stdout",
          "output_type": "stream",
          "text": [
            "('abc', 'hr', 10.5)\n",
            "('abc1', 'hr', 11.5)\n",
            "('abc2', 'hr', 12.5)\n"
          ]
        }
      ]
    },
    {
      "cell_type": "code",
      "metadata": {
        "id": "ZEwImhx-rhhF"
      },
      "source": [
        "# OUTER Join Functions\n",
        "\n",
        "SQL_join_cross = \"SELECT *  \\\n",
        "            from HR \\\n",
        "            CROSS join FINANCE \"\n",
        "            \n",
        "mycursor.execute(SQL_join_cross)\n",
        "\n",
        "SQL_results = mycursor.fetchall()\n",
        "\n",
        "for x in SQL_results:\n",
        "    print(x)\n"
      ],
      "execution_count": null,
      "outputs": []
    },
    {
      "cell_type": "markdown",
      "metadata": {
        "id": "OQsnLuzXrhhH"
      },
      "source": [
        "### Update the data"
      ]
    },
    {
      "cell_type": "code",
      "metadata": {
        "id": "yT6fJSOorhhJ"
      },
      "source": [
        "# Where Condition\n",
        "\n",
        "SQL_salary = \"UPDATE FINANCE SET Salary=11 WHERE Salary = 11.5\"\n",
        "mycursor.execute(SQL_salary)\n",
        "\n",
        "mydb.commit()"
      ],
      "execution_count": null,
      "outputs": []
    },
    {
      "cell_type": "code",
      "metadata": {
        "id": "nMysE3jRrhhK",
        "outputId": "da865bd5-c8f0-44cd-f0f3-2b8fb3b104d0"
      },
      "source": [
        "# Where Condition\n",
        "\n",
        "SQL_where_finance = \"SELECT * from FINANCE WHERE Salary >= 11\"\n",
        "\n",
        "mycursor.execute(SQL_where_finance)\n",
        "\n",
        "SQL_where_results_finance = mycursor.fetchall()\n",
        "\n",
        "for x in SQL_where_results_finance:\n",
        "    print(x)"
      ],
      "execution_count": null,
      "outputs": [
        {
          "name": "stdout",
          "output_type": "stream",
          "text": [
            "(2, 2, 11.0)\n",
            "(3, 3, 12.5)\n"
          ]
        }
      ]
    },
    {
      "cell_type": "markdown",
      "metadata": {
        "id": "jztzVyfsrhhN"
      },
      "source": [
        "### Delete the data"
      ]
    },
    {
      "cell_type": "code",
      "metadata": {
        "id": "timcDjJUrhhP"
      },
      "source": [
        "# rollback()-- it won't allow the execution of command\n",
        "\n",
        "SQL_salary = \"DELETE FROM FINANCE WHERE Salary >= 11.5\"  #deleting salary data if >=11.5\n",
        "mycursor.execute(SQL_salary)\n",
        "\n",
        "mydb.rollback()\n",
        "mydb.commit()"
      ],
      "execution_count": null,
      "outputs": []
    },
    {
      "cell_type": "code",
      "metadata": {
        "id": "qxjbH8orrhhR",
        "outputId": "b4336e7d-03a7-48ac-f4b1-13b1ec4b6ae8"
      },
      "source": [
        "# Testing of rollback\n",
        "\n",
        "SQL_where_finance = \"SELECT * from FINANCE WHERE Salary >= 11.5\"\n",
        "\n",
        "mycursor.execute(SQL_where_finance)\n",
        "\n",
        "SQL_where_results_finance = mycursor.fetchall()\n",
        "\n",
        "for x in SQL_where_results_finance:\n",
        "    print(x)\n",
        "\n",
        "    \n",
        "# We still get the record of salary>=11.5 as we have used rollback() earlier which stopped the deletion"
      ],
      "execution_count": null,
      "outputs": [
        {
          "name": "stdout",
          "output_type": "stream",
          "text": [
            "(3, 3, 12.5)\n"
          ]
        }
      ]
    },
    {
      "cell_type": "code",
      "metadata": {
        "id": "7QGa7s28rhhT"
      },
      "source": [
        "# Without rollback\n",
        "\n",
        "SQL_salary = \"DELETE FROM FINANCE WHERE Salary >= 11.5\"\n",
        "mycursor.execute(SQL_salary)\n",
        "mydb.commit()"
      ],
      "execution_count": null,
      "outputs": []
    },
    {
      "cell_type": "code",
      "metadata": {
        "id": "8p_ZHHlkrhhV"
      },
      "source": [
        "SQL_where_finance = \"SELECT * from FINANCE WHERE Salary >= 11.5\"\n",
        "\n",
        "mycursor.execute(SQL_where_finance)\n",
        "\n",
        "SQL_where_results_finance = mycursor.fetchall()\n",
        "\n",
        "for x in SQL_where_results_finance:\n",
        "    print(x)"
      ],
      "execution_count": null,
      "outputs": []
    },
    {
      "cell_type": "markdown",
      "metadata": {
        "id": "u6m5Rn-3s0fR"
      },
      "source": [
        "**Practice** **15/11/2021**"
      ]
    },
    {
      "cell_type": "code",
      "metadata": {
        "id": "YzwYz2895hJo"
      },
      "source": [
        "reorder([-7,5,9,-75,89,-1,8,-52,45,98,-78,555,-875,1])"
      ],
      "execution_count": null,
      "outputs": []
    },
    {
      "cell_type": "code",
      "metadata": {
        "colab": {
          "base_uri": "https://localhost:8080/"
        },
        "id": "Q9-2qNpQDyM1",
        "outputId": "81d8ff64-4bc9-4616-bafa-04583674950a"
      },
      "source": [
        "def reorder(x):\n",
        "  neg=[ele for ele in x if ele<0]\n",
        "  pos=[item for item in x if item>-1]\n",
        "  return neg+pos\n",
        "\n",
        "reorder([-7,5,9,-75,89,-1,8,-52,45,98,-78,555,-875,1 ,0])\n",
        "\n",
        "\n"
      ],
      "execution_count": null,
      "outputs": [
        {
          "output_type": "execute_result",
          "data": {
            "text/plain": [
              "[-7, -75, -1, -52, -78, -875, 5, 9, 89, 8, 45, 98, 555, 1, 0]"
            ]
          },
          "metadata": {},
          "execution_count": 5
        }
      ]
    },
    {
      "cell_type": "code",
      "metadata": {
        "colab": {
          "base_uri": "https://localhost:8080/",
          "height": 35
        },
        "id": "6JscLj9eJkw5",
        "outputId": "595603a5-f2d1-482d-d801-1bccdd6df19d"
      },
      "source": [
        "\n",
        "def reverse(st):\n",
        "    list_1 = []\n",
        "    list_1 = st.split(' ')\n",
        "    list_1.reverse()\n",
        "    st = ' '.join(list_1)\n",
        "    return st\n",
        "reverse('wuhan virus = chinese virus') \n",
        "#virus chinese = virus wuhan"
      ],
      "execution_count": null,
      "outputs": [
        {
          "output_type": "execute_result",
          "data": {
            "application/vnd.google.colaboratory.intrinsic+json": {
              "type": "string"
            },
            "text/plain": [
              "'virus chinese = virus wuhan'"
            ]
          },
          "metadata": {},
          "execution_count": 8
        }
      ]
    },
    {
      "cell_type": "code",
      "metadata": {
        "colab": {
          "base_uri": "https://localhost:8080/"
        },
        "id": "uj4AjWd9Qsi4",
        "outputId": "952b1e50-038e-476b-fbe9-41ac6825d090"
      },
      "source": [
        "#4+44+444+4444\n",
        "#3+33+333\n",
        "n=int(input(\"Enter a number n: \"))\n"
      ],
      "execution_count": null,
      "outputs": [
        {
          "output_type": "stream",
          "name": "stdout",
          "text": [
            "Enter a number n: 4\n",
            "The value is: 492\n"
          ]
        },
        {
          "output_type": "execute_result",
          "data": {
            "text/plain": [
              "8641969"
            ]
          },
          "metadata": {},
          "execution_count": 13
        }
      ]
    },
    {
      "cell_type": "code",
      "metadata": {
        "colab": {
          "base_uri": "https://localhost:8080/"
        },
        "id": "6m9X4tlUTvBM",
        "outputId": "0399c508-53e8-4d08-c18d-e7f02eb55061"
      },
      "source": [
        "def sequance(n):\n",
        "  seq_list=[]\n",
        "  for ele in range(1,n+1):\n",
        "    seq_list.append(str(n)*ele)\n",
        "  sum=0\n",
        "  for ele in seq_list:\n",
        "    sum=sum+int(ele)\n",
        "  return sum\n",
        "\n",
        "n=int(input(\"Enter a number n: \"))\n",
        "print(sequance(n))\n",
        "\n"
      ],
      "execution_count": null,
      "outputs": [
        {
          "output_type": "stream",
          "name": "stdout",
          "text": [
            "Enter a number n: 5\n",
            "61725\n"
          ]
        }
      ]
    }
  ]
}